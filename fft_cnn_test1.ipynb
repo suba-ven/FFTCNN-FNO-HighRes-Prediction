{
 "cells": [
  {
   "cell_type": "code",
   "execution_count": 1,
   "id": "be25a19d-28eb-46a5-bc3e-3f9f5c05e078",
   "metadata": {},
   "outputs": [
    {
     "name": "stdout",
     "output_type": "stream",
     "text": [
      "Collecting neuraloperator\n",
      "  Using cached neuraloperator-1.0.2-py3-none-any.whl.metadata (7.5 kB)\n",
      "Collecting wandb (from neuraloperator)\n",
      "  Using cached wandb-0.19.11-py3-none-manylinux_2_17_x86_64.manylinux2014_x86_64.whl.metadata (10 kB)\n",
      "Requirement already satisfied: ruamel-yaml in /srv/conda/envs/notebook/lib/python3.12/site-packages (from neuraloperator) (0.17.17)\n",
      "Collecting configmypy (from neuraloperator)\n",
      "  Using cached configmypy-0.2.0-py3-none-any.whl.metadata (5.0 kB)\n",
      "Collecting tensorly (from neuraloperator)\n",
      "  Using cached tensorly-0.9.0-py3-none-any.whl.metadata (8.6 kB)\n",
      "Collecting tensorly-torch (from neuraloperator)\n",
      "  Using cached tensorly_torch-0.5.0-py3-none-any.whl.metadata (4.6 kB)\n",
      "Collecting torch-harmonics==0.7.3 (from neuraloperator)\n",
      "  Using cached torch_harmonics-0.7.3-py3-none-any.whl\n",
      "Requirement already satisfied: matplotlib in /srv/conda/envs/notebook/lib/python3.12/site-packages (from neuraloperator) (3.10.0)\n",
      "Requirement already satisfied: numpy>=1.25 in /srv/conda/envs/notebook/lib/python3.12/site-packages (from neuraloperator) (2.0.2)\n",
      "Collecting opt-einsum (from neuraloperator)\n",
      "  Using cached opt_einsum-3.4.0-py3-none-any.whl.metadata (6.3 kB)\n",
      "Requirement already satisfied: h5py in /srv/conda/envs/notebook/lib/python3.12/site-packages (from neuraloperator) (3.12.1)\n",
      "Requirement already satisfied: zarr in /srv/conda/envs/notebook/lib/python3.12/site-packages (from neuraloperator) (3.0.1)\n",
      "Requirement already satisfied: torch>=2.4.0 in /srv/conda/envs/notebook/lib/python3.12/site-packages (from torch-harmonics==0.7.3->neuraloperator) (2.5.1.post303)\n",
      "Collecting pytest (from configmypy->neuraloperator)\n",
      "  Using cached pytest-8.3.5-py3-none-any.whl.metadata (7.6 kB)\n",
      "Collecting pytest-mock (from configmypy->neuraloperator)\n",
      "  Using cached pytest_mock-3.14.0-py3-none-any.whl.metadata (3.8 kB)\n",
      "Requirement already satisfied: contourpy>=1.0.1 in /srv/conda/envs/notebook/lib/python3.12/site-packages (from matplotlib->neuraloperator) (1.3.1)\n",
      "Requirement already satisfied: cycler>=0.10 in /srv/conda/envs/notebook/lib/python3.12/site-packages (from matplotlib->neuraloperator) (0.12.1)\n",
      "Requirement already satisfied: fonttools>=4.22.0 in /srv/conda/envs/notebook/lib/python3.12/site-packages (from matplotlib->neuraloperator) (4.55.4)\n",
      "Requirement already satisfied: kiwisolver>=1.3.1 in /srv/conda/envs/notebook/lib/python3.12/site-packages (from matplotlib->neuraloperator) (1.4.8)\n",
      "Requirement already satisfied: packaging>=20.0 in /srv/conda/envs/notebook/lib/python3.12/site-packages (from matplotlib->neuraloperator) (24.2)\n",
      "Requirement already satisfied: pillow>=8 in /srv/conda/envs/notebook/lib/python3.12/site-packages (from matplotlib->neuraloperator) (11.1.0)\n",
      "Requirement already satisfied: pyparsing>=2.3.1 in /srv/conda/envs/notebook/lib/python3.12/site-packages (from matplotlib->neuraloperator) (3.2.1)\n",
      "Requirement already satisfied: python-dateutil>=2.7 in /srv/conda/envs/notebook/lib/python3.12/site-packages (from matplotlib->neuraloperator) (2.9.0)\n",
      "Requirement already satisfied: scipy in /srv/conda/envs/notebook/lib/python3.12/site-packages (from tensorly->neuraloperator) (1.15.1)\n",
      "Requirement already satisfied: click!=8.0.0,>=7.1 in /srv/conda/envs/notebook/lib/python3.12/site-packages (from wandb->neuraloperator) (8.1.8)\n",
      "Collecting docker-pycreds>=0.4.0 (from wandb->neuraloperator)\n",
      "  Using cached docker_pycreds-0.4.0-py2.py3-none-any.whl.metadata (1.8 kB)\n",
      "Requirement already satisfied: gitpython!=3.1.29,>=1.0.0 in /srv/conda/envs/notebook/lib/python3.12/site-packages (from wandb->neuraloperator) (3.1.44)\n",
      "Requirement already satisfied: platformdirs in /srv/conda/envs/notebook/lib/python3.12/site-packages (from wandb->neuraloperator) (4.3.6)\n",
      "Requirement already satisfied: protobuf!=4.21.0,!=5.28.0,<7,>=3.19.0 in /srv/conda/envs/notebook/lib/python3.12/site-packages (from wandb->neuraloperator) (5.28.2)\n",
      "Requirement already satisfied: psutil>=5.0.0 in /srv/conda/envs/notebook/lib/python3.12/site-packages (from wandb->neuraloperator) (5.9.8)\n",
      "Requirement already satisfied: pydantic<3 in /srv/conda/envs/notebook/lib/python3.12/site-packages (from wandb->neuraloperator) (2.10.5)\n",
      "Requirement already satisfied: pyyaml in /srv/conda/envs/notebook/lib/python3.12/site-packages (from wandb->neuraloperator) (6.0.2)\n",
      "Requirement already satisfied: requests<3,>=2.0.0 in /srv/conda/envs/notebook/lib/python3.12/site-packages (from wandb->neuraloperator) (2.32.3)\n",
      "Collecting sentry-sdk>=2.0.0 (from wandb->neuraloperator)\n",
      "  Using cached sentry_sdk-2.27.0-py2.py3-none-any.whl.metadata (10 kB)\n",
      "Collecting setproctitle (from wandb->neuraloperator)\n",
      "  Using cached setproctitle-1.3.6-cp312-cp312-manylinux_2_5_x86_64.manylinux1_x86_64.manylinux_2_17_x86_64.manylinux2014_x86_64.whl.metadata (10 kB)\n",
      "Requirement already satisfied: setuptools in /srv/conda/envs/notebook/lib/python3.12/site-packages (from wandb->neuraloperator) (75.8.0)\n",
      "Requirement already satisfied: typing-extensions<5,>=4.4 in /srv/conda/envs/notebook/lib/python3.12/site-packages (from wandb->neuraloperator) (4.12.2)\n",
      "Requirement already satisfied: donfig>=0.8 in /srv/conda/envs/notebook/lib/python3.12/site-packages (from zarr->neuraloperator) (0.8.1.post1)\n",
      "Requirement already satisfied: numcodecs>=0.14 in /srv/conda/envs/notebook/lib/python3.12/site-packages (from numcodecs[crc32c]>=0.14->zarr->neuraloperator) (0.15.0)\n",
      "Requirement already satisfied: six>=1.4.0 in /srv/conda/envs/notebook/lib/python3.12/site-packages (from docker-pycreds>=0.4.0->wandb->neuraloperator) (1.17.0)\n",
      "Requirement already satisfied: gitdb<5,>=4.0.1 in /srv/conda/envs/notebook/lib/python3.12/site-packages (from gitpython!=3.1.29,>=1.0.0->wandb->neuraloperator) (4.0.12)\n",
      "Requirement already satisfied: deprecated in /srv/conda/envs/notebook/lib/python3.12/site-packages (from numcodecs>=0.14->numcodecs[crc32c]>=0.14->zarr->neuraloperator) (1.2.15)\n",
      "Requirement already satisfied: crc32c>=2.7 in /srv/conda/envs/notebook/lib/python3.12/site-packages (from numcodecs[crc32c]>=0.14->zarr->neuraloperator) (2.7.1)\n",
      "Requirement already satisfied: annotated-types>=0.6.0 in /srv/conda/envs/notebook/lib/python3.12/site-packages (from pydantic<3->wandb->neuraloperator) (0.7.0)\n",
      "Requirement already satisfied: pydantic-core==2.27.2 in /srv/conda/envs/notebook/lib/python3.12/site-packages (from pydantic<3->wandb->neuraloperator) (2.27.2)\n",
      "Requirement already satisfied: charset_normalizer<4,>=2 in /srv/conda/envs/notebook/lib/python3.12/site-packages (from requests<3,>=2.0.0->wandb->neuraloperator) (3.4.1)\n",
      "Requirement already satisfied: idna<4,>=2.5 in /srv/conda/envs/notebook/lib/python3.12/site-packages (from requests<3,>=2.0.0->wandb->neuraloperator) (3.10)\n",
      "Requirement already satisfied: urllib3<3,>=1.21.1 in /srv/conda/envs/notebook/lib/python3.12/site-packages (from requests<3,>=2.0.0->wandb->neuraloperator) (1.26.19)\n",
      "Requirement already satisfied: certifi>=2017.4.17 in /srv/conda/envs/notebook/lib/python3.12/site-packages (from requests<3,>=2.0.0->wandb->neuraloperator) (2024.12.14)\n",
      "Requirement already satisfied: filelock in /srv/conda/envs/notebook/lib/python3.12/site-packages (from torch>=2.4.0->torch-harmonics==0.7.3->neuraloperator) (3.17.0)\n",
      "Requirement already satisfied: networkx in /srv/conda/envs/notebook/lib/python3.12/site-packages (from torch>=2.4.0->torch-harmonics==0.7.3->neuraloperator) (3.4.2)\n",
      "Requirement already satisfied: jinja2 in /srv/conda/envs/notebook/lib/python3.12/site-packages (from torch>=2.4.0->torch-harmonics==0.7.3->neuraloperator) (3.1.5)\n",
      "Requirement already satisfied: fsspec in /srv/conda/envs/notebook/lib/python3.12/site-packages (from torch>=2.4.0->torch-harmonics==0.7.3->neuraloperator) (2024.12.0)\n",
      "Requirement already satisfied: sympy!=1.13.2,>=1.13.1 in /srv/conda/envs/notebook/lib/python3.12/site-packages (from torch>=2.4.0->torch-harmonics==0.7.3->neuraloperator) (1.13.3)\n",
      "Collecting iniconfig (from pytest->configmypy->neuraloperator)\n",
      "  Using cached iniconfig-2.1.0-py3-none-any.whl.metadata (2.7 kB)\n",
      "Requirement already satisfied: pluggy<2,>=1.5 in /srv/conda/envs/notebook/lib/python3.12/site-packages (from pytest->configmypy->neuraloperator) (1.5.0)\n",
      "Requirement already satisfied: smmap<6,>=3.0.1 in /srv/conda/envs/notebook/lib/python3.12/site-packages (from gitdb<5,>=4.0.1->gitpython!=3.1.29,>=1.0.0->wandb->neuraloperator) (5.0.0)\n",
      "Requirement already satisfied: mpmath<1.4,>=1.1.0 in /srv/conda/envs/notebook/lib/python3.12/site-packages (from sympy!=1.13.2,>=1.13.1->torch>=2.4.0->torch-harmonics==0.7.3->neuraloperator) (1.3.0)\n",
      "Requirement already satisfied: wrapt<2,>=1.10 in /srv/conda/envs/notebook/lib/python3.12/site-packages (from deprecated->numcodecs>=0.14->numcodecs[crc32c]>=0.14->zarr->neuraloperator) (1.17.2)\n",
      "Requirement already satisfied: MarkupSafe>=2.0 in /srv/conda/envs/notebook/lib/python3.12/site-packages (from jinja2->torch>=2.4.0->torch-harmonics==0.7.3->neuraloperator) (3.0.2)\n",
      "Using cached neuraloperator-1.0.2-py3-none-any.whl (186 kB)\n",
      "Using cached configmypy-0.2.0-py3-none-any.whl (14 kB)\n",
      "Using cached opt_einsum-3.4.0-py3-none-any.whl (71 kB)\n",
      "Using cached tensorly-0.9.0-py3-none-any.whl (7.4 MB)\n",
      "Using cached tensorly_torch-0.5.0-py3-none-any.whl (59 kB)\n",
      "Using cached wandb-0.19.11-py3-none-manylinux_2_17_x86_64.manylinux2014_x86_64.whl (21.4 MB)\n",
      "Using cached docker_pycreds-0.4.0-py2.py3-none-any.whl (9.0 kB)\n",
      "Using cached sentry_sdk-2.27.0-py2.py3-none-any.whl (340 kB)\n",
      "Using cached pytest-8.3.5-py3-none-any.whl (343 kB)\n",
      "Using cached pytest_mock-3.14.0-py3-none-any.whl (9.9 kB)\n",
      "Using cached setproctitle-1.3.6-cp312-cp312-manylinux_2_5_x86_64.manylinux1_x86_64.manylinux_2_17_x86_64.manylinux2014_x86_64.whl (31 kB)\n",
      "Using cached iniconfig-2.1.0-py3-none-any.whl (6.0 kB)\n",
      "Installing collected packages: setproctitle, sentry-sdk, opt-einsum, iniconfig, docker-pycreds, tensorly-torch, tensorly, pytest, wandb, torch-harmonics, pytest-mock, configmypy, neuraloperator\n",
      "Successfully installed configmypy-0.2.0 docker-pycreds-0.4.0 iniconfig-2.1.0 neuraloperator-1.0.2 opt-einsum-3.4.0 pytest-8.3.5 pytest-mock-3.14.0 sentry-sdk-2.27.0 setproctitle-1.3.6 tensorly-0.9.0 tensorly-torch-0.5.0 torch-harmonics-0.7.3 wandb-0.19.11\n"
     ]
    }
   ],
   "source": [
    "! pip install neuraloperator"
   ]
  },
  {
   "cell_type": "code",
   "execution_count": 2,
   "id": "8ce7e91a-0d9b-440f-8340-f6ff5b332288",
   "metadata": {},
   "outputs": [],
   "source": [
    "from neuralop.data.datasets import DarcyDataset"
   ]
  },
  {
   "cell_type": "code",
   "execution_count": 29,
   "id": "663e7eb0-5dfa-46ae-b018-891047559762",
   "metadata": {},
   "outputs": [
    {
     "name": "stdout",
     "output_type": "stream",
     "text": [
      "Loading test db for resolution 16 with 1000 samples \n",
      "Loading test db for resolution 32 with 500 samples \n"
     ]
    },
    {
     "name": "stderr",
     "output_type": "stream",
     "text": [
      "/srv/conda/envs/notebook/lib/python3.12/site-packages/neuralop/data/datasets/pt_dataset.py:93: FutureWarning: You are using `torch.load` with `weights_only=False` (the current default value), which uses the default pickle module implicitly. It is possible to construct malicious pickle data which will execute arbitrary code during unpickling (See https://github.com/pytorch/pytorch/blob/main/SECURITY.md#untrusted-models for more details). In a future release, the default value for `weights_only` will be flipped to `True`. This limits the functions that could be executed during unpickling. Arbitrary objects will no longer be allowed to be loaded via this mode unless they are explicitly allowlisted by the user via `torch.serialization.add_safe_globals`. We recommend you start setting `weights_only=True` for any use case where you don't have full control of the loaded file. Please open an issue on GitHub for any issues related to this experimental feature.\n",
      "  data = torch.load(\n",
      "/srv/conda/envs/notebook/lib/python3.12/site-packages/neuralop/data/datasets/pt_dataset.py:172: FutureWarning: You are using `torch.load` with `weights_only=False` (the current default value), which uses the default pickle module implicitly. It is possible to construct malicious pickle data which will execute arbitrary code during unpickling (See https://github.com/pytorch/pytorch/blob/main/SECURITY.md#untrusted-models for more details). In a future release, the default value for `weights_only` will be flipped to `True`. This limits the functions that could be executed during unpickling. Arbitrary objects will no longer be allowed to be loaded via this mode unless they are explicitly allowlisted by the user via `torch.serialization.add_safe_globals`. We recommend you start setting `weights_only=True` for any use case where you don't have full control of the loaded file. Please open an issue on GitHub for any issues related to this experimental feature.\n",
      "  data = torch.load(Path(root_dir).joinpath(f\"{dataset_name}_test_{res}.pt\").as_posix())\n"
     ]
    }
   ],
   "source": [
    "ds = DarcyDataset(root_dir=\"./data\", n_train= 5000, n_tests= [1000, 500],\n",
    "                 batch_size = 32, test_batch_sizes = [32, 32],\n",
    "                 train_resolution= 16,\n",
    "                 test_resolutions =[16,32],download=True)"
   ]
  },
  {
   "cell_type": "code",
   "execution_count": null,
   "id": "6e68ddc4-e50d-405c-8de1-b05368e461a1",
   "metadata": {},
   "outputs": [],
   "source": [
    "ds1 = DarcyDataset(root_dir=\"./data\", n_train= 1000, n_tests= [100, 50],\n",
    "                 batch_size = 32, test_batch_sizes = [32, 32],\n",
    "                 train_resolution= 32,\n",
    "                 test_resolutions =[16,32],download=True)"
   ]
  },
  {
   "cell_type": "code",
   "execution_count": 30,
   "id": "f6836540-c3a8-460d-a2fe-284bc3dc88df",
   "metadata": {},
   "outputs": [],
   "source": [
    "a = ds.train_db"
   ]
  },
  {
   "cell_type": "code",
   "execution_count": 33,
   "id": "1d6f0a40-be7b-4150-aad5-1701017da75d",
   "metadata": {},
   "outputs": [
    {
     "name": "stdout",
     "output_type": "stream",
     "text": [
      "torch.Size([50, 16, 16])\n",
      "torch.Size([50, 16, 16])\n"
     ]
    }
   ],
   "source": [
    "import numpy as np\n",
    "import torch\n",
    "import torch.nn as nn\n",
    "import torch.optim as optim\n",
    "import torch.nn.functional as F\n",
    "import torch.fft\n",
    "import matplotlib.pyplot as plt\n",
    "from scipy.ndimage import gaussian_filter\n",
    "from torch.utils.data import TensorDataset, DataLoader\n",
    "b = ds.test_dbs[16]\n",
    "full_loader = DataLoader(b,\n",
    "                         batch_size=len(b),\n",
    "                         shuffle=False,\n",
    "                         drop_last=False)\n",
    "\n",
    "batch = next(iter(full_loader))\n",
    "# batch is a dict, so:\n",
    "x_all_test = batch['x']        # shape [1000, 1, 16, 16]\n",
    "y_all_test = batch['y']\n",
    "x_all_test = x_all_test.squeeze(1)  # → [1000, 16, 16]\n",
    "y_all_test = y_all_test.squeeze(1)\n",
    "print(x_all_test.shape)        # should print: torch.Size([1000, 16, 16])\n",
    "print(y_all_test.shape)        # should print: torch.Size([1000, 16, 16])\n"
   ]
  },
  {
   "cell_type": "code",
   "execution_count": 34,
   "id": "4fa3b82b-efd7-455d-b4b2-963ba1cf1340",
   "metadata": {},
   "outputs": [
    {
     "data": {
      "image/png": "[encoded data removed]",
      "text/plain": [
       "<Figure size 800x400 with 2 Axes>"
      ]
     },
     "metadata": {},
     "output_type": "display_data"
    }
   ],
   "source": [
    "visualize_pair(x_all_test, y_all_test, idx=5)"
   ]
  },
  {
   "cell_type": "code",
   "execution_count": 35,
   "id": "77f7bfb5-7950-4794-8b8f-114f917459db",
   "metadata": {},
   "outputs": [
    {
     "name": "stdout",
     "output_type": "stream",
     "text": [
      "torch.Size([1000, 16, 16])\n",
      "torch.Size([1000, 16, 16])\n"
     ]
    }
   ],
   "source": [
    "from torch.utils.data import DataLoader\n",
    "\n",
    "# a = ds.train_db\n",
    "full_loader = DataLoader(a,\n",
    "                         batch_size=len(a),\n",
    "                         shuffle=False,\n",
    "                         drop_last=False)\n",
    "\n",
    "batch = next(iter(full_loader))\n",
    "# batch is a dict, so:\n",
    "x_all = batch['x']        # shape [1000, 1, 16, 16]\n",
    "y_all = batch['y']\n",
    "x_all = x_all.squeeze(1)  # → [1000, 16, 16]\n",
    "y_all = y_all.squeeze(1)\n",
    "print(x_all.shape)        # should print: torch.Size([1000, 16, 16])\n",
    "print(y_all.shape)        # should print: torch.Size([1000, 16, 16])\n"
   ]
  },
  {
   "cell_type": "code",
   "execution_count": 36,
   "id": "1adf0b51-e4df-43f2-b565-b401d3e26301",
   "metadata": {},
   "outputs": [],
   "source": [
    "import matplotlib.pyplot as plt\n",
    "\n",
    "def visualize_pair(x_all, y_all, idx):\n",
    "    \"\"\"\n",
    "    Plot x_all[idx] and y_all[idx] side by side.\n",
    "\n",
    "    Parameters\n",
    "    ----------\n",
    "    x_all : torch.Tensor or np.ndarray, shape (N, 16, 16)\n",
    "    y_all : torch.Tensor or np.ndarray, shape (N, 16, 16)\n",
    "    idx   : int, which sample to plot\n",
    "\n",
    "    Displays a matplotlib figure.\n",
    "    \"\"\"\n",
    "    # if torch.Tensor, convert to numpy\n",
    "    if hasattr(x_all, 'cpu'):\n",
    "        x = x_all[idx].cpu().numpy()\n",
    "    else:\n",
    "        x = x_all[idx]\n",
    "    if hasattr(y_all, 'cpu'):\n",
    "        y = y_all[idx].cpu().numpy()\n",
    "    else:\n",
    "        y = y_all[idx]\n",
    "\n",
    "    fig, axes = plt.subplots(1, 2, figsize=(8, 4))\n",
    "    axes[0].imshow(x, aspect='equal')\n",
    "    axes[0].set_title(f'x_all[{idx}]')\n",
    "    axes[0].axis('off')\n",
    "\n",
    "    axes[1].imshow(y, aspect='equal')\n",
    "    axes[1].set_title(f'y_all[{idx}]')\n",
    "    axes[1].axis('off')\n",
    "\n",
    "    plt.tight_layout()\n",
    "    plt.show()\n"
   ]
  },
  {
   "cell_type": "code",
   "execution_count": 37,
   "id": "61bf4d45-3a2b-4764-847d-bc0da58df12a",
   "metadata": {},
   "outputs": [
    {
     "data": {
      "text/plain": [
       "tensor([[1., 1., 1., 1., 1., 1., 1., 1., 1., 1., 1., 1., 1., 1., 0., 0.],\n",
       "        [1., 1., 1., 1., 1., 1., 1., 1., 1., 1., 1., 1., 1., 1., 0., 0.],\n",
       "        [1., 1., 1., 1., 1., 1., 1., 1., 1., 1., 1., 1., 1., 0., 0., 0.],\n",
       "        [1., 1., 1., 1., 1., 1., 1., 1., 1., 1., 1., 1., 0., 0., 0., 0.],\n",
       "        [1., 1., 1., 1., 1., 1., 1., 1., 1., 1., 1., 0., 0., 0., 0., 0.],\n",
       "        [1., 1., 1., 1., 1., 1., 1., 0., 0., 0., 0., 0., 0., 0., 0., 0.],\n",
       "        [1., 1., 1., 1., 1., 1., 1., 0., 0., 0., 0., 0., 0., 0., 0., 0.],\n",
       "        [1., 1., 1., 1., 1., 1., 1., 1., 0., 0., 0., 0., 0., 0., 0., 0.],\n",
       "        [0., 0., 1., 1., 1., 1., 1., 1., 1., 0., 0., 0., 0., 0., 0., 0.],\n",
       "        [0., 0., 0., 1., 1., 1., 1., 1., 1., 0., 0., 0., 0., 0., 0., 0.],\n",
       "        [0., 0., 0., 0., 1., 1., 1., 1., 0., 0., 0., 0., 0., 0., 0., 1.],\n",
       "        [0., 0., 0., 0., 0., 0., 0., 0., 0., 0., 0., 0., 0., 1., 1., 1.],\n",
       "        [0., 0., 0., 0., 0., 0., 0., 0., 0., 0., 0., 0., 1., 1., 1., 1.],\n",
       "        [0., 0., 0., 0., 0., 0., 0., 0., 0., 0., 0., 0., 1., 1., 1., 1.],\n",
       "        [0., 0., 0., 0., 0., 0., 0., 0., 0., 0., 0., 1., 1., 1., 1., 1.],\n",
       "        [0., 0., 0., 0., 0., 0., 0., 0., 0., 0., 1., 1., 1., 1., 1., 1.]])"
      ]
     },
     "execution_count": 37,
     "metadata": {},
     "output_type": "execute_result"
    }
   ],
   "source": [
    "x_all[5]"
   ]
  },
  {
   "cell_type": "code",
   "execution_count": 14,
   "id": "07ab3945-4562-4644-a813-574eb4794874",
   "metadata": {},
   "outputs": [
    {
     "data": {
      "image/png": "[encoded data removed]",
      "text/plain": [
       "<Figure size 800x400 with 2 Axes>"
      ]
     },
     "metadata": {},
     "output_type": "display_data"
    }
   ],
   "source": [
    "visualize_pair(x_all, y_all, idx=5)"
   ]
  },
  {
   "cell_type": "code",
   "execution_count": 26,
   "id": "d256d7e2-a019-47ef-b9f4-4598c061eda6",
   "metadata": {},
   "outputs": [
    {
     "data": {
      "image/png": "[encoded data removed]",
      "text/plain": [
       "<Figure size 800x400 with 2 Axes>"
      ]
     },
     "metadata": {},
     "output_type": "display_data"
    }
   ],
   "source": [
    "visualize_pair(x_all, y_all, idx=50)"
   ]
  },
  {
   "cell_type": "markdown",
   "id": "08f17093-948f-470a-a9c3-28e9449a7169",
   "metadata": {},
   "source": [
    "# creating new fft dataset"
   ]
  },
  {
   "cell_type": "code",
   "execution_count": 15,
   "id": "8e883640-6e70-40a1-9a28-291bff2d0f60",
   "metadata": {},
   "outputs": [],
   "source": [
    "import torch\n",
    "import torch.nn.functional as F\n",
    "\n",
    "def fft_transform(\n",
    "    x: torch.Tensor,\n",
    "    target_size=(256,256),\n",
    "    mode='mag_phase',\n",
    "    eps=1e-6\n",
    ") -> torch.Tensor:\n",
    "    \"\"\"\n",
    "    Convert a batch of 2D fields to a 2‑channel frequency‐domain tensor.\n",
    "    \n",
    "    Args:\n",
    "      x             Tensor, shape (B, 1, H, W), values in {0,1} or floats.\n",
    "      target_size   (h, w) to interpolate to before FFT.\n",
    "      mode          'mag_phase' or 'real_imag'\n",
    "      eps           small constant to avoid log(0)\n",
    "    \n",
    "    Returns:\n",
    "      Tensor of shape (B, 2, h, w):\n",
    "        * if mode=='mag_phase':  channels = [normalized log|FFT|,  phase/π]\n",
    "        * if mode=='real_imag':  channels = [real(FFT)/M,  imag(FFT)/M]\n",
    "          where M = global max absolute value in batch so both in [–1,1]\n",
    "    \"\"\"\n",
    "    B, C, H, W = x.shape\n",
    "    assert C == 1, \"expect single‐channel input\"\n",
    "    # 1) Upsample spatially (optional; skip if H,W already target_size)\n",
    "    x_up = F.interpolate(x, size=target_size, mode='bilinear', align_corners=False)\n",
    "    # remove channel for FFT: now (B, h, w)\n",
    "    x2 = x_up[:, 0]\n",
    "\n",
    "    # 2) 2D FFT → complex tensor (B, h, w)\n",
    "    Xf = torch.fft.fft2(x2)\n",
    "\n",
    "    if mode == 'mag_phase':\n",
    "        # 3a) magnitude and phase\n",
    "        mag = torch.abs(Xf)\n",
    "        # log1p to avoid –inf at zero\n",
    "        logmag = torch.log1p(mag)\n",
    "        phase = torch.angle(Xf)  # in [–π, π]\n",
    "\n",
    "        # 4a) per‐sample normalization to [0, 1]\n",
    "        # you could also compute global min/max across your TRAINING SET once\n",
    "        lm = logmag.view(B, -1).min(dim=1)[0].view(B,1,1)\n",
    "        lM = logmag.view(B, -1).max(dim=1)[0].view(B,1,1)\n",
    "        mag_n = (logmag - lm) / (lM - lm + eps)\n",
    "\n",
    "        phase_n = (phase + torch.pi) / (2*torch.pi)  # [0,1]\n",
    "\n",
    "        out = torch.stack([mag_n, phase_n], dim=1)\n",
    "\n",
    "    else:\n",
    "        # 3b) real & imag\n",
    "        real = Xf.real\n",
    "        imag = Xf.imag\n",
    "        # 4b) normalize by a global constant so values ~ in [–1,1]\n",
    "        M = torch.max(torch.cat([real.abs(), imag.abs()], dim=0))\n",
    "        out = torch.stack([real/M, imag/M], dim=1)\n",
    "\n",
    "    return out\n"
   ]
  },
  {
   "cell_type": "code",
   "execution_count": 17,
   "id": "0f3ff7ec-7297-48f1-b9c9-1f2b65833d96",
   "metadata": {},
   "outputs": [],
   "source": [
    "import torch\n",
    "from torch.utils.data import Dataset, DataLoader\n",
    "\n",
    "class FreqDataset(Dataset):\n",
    "    \"\"\"\n",
    "    Wraps x_all, y_all of shape [N, 16, 16] → returns\n",
    "    (x_fft, y_fft) each of shape [2, 16, 16].\n",
    "    \"\"\"\n",
    "    def __init__(self,\n",
    "                 x_all: torch.Tensor,   # [N, 16, 16]\n",
    "                 y_all: torch.Tensor,   # [N, 16, 16]\n",
    "                 target_size=(16,16),   # keep 16×16\n",
    "                 mode='mag_phase'):\n",
    "        assert x_all.shape == y_all.shape, \"x and y must match\"\n",
    "        self.x = x_all.unsqueeze(1).float()  # → [N,1,16,16]\n",
    "        self.y = y_all.unsqueeze(1).float()\n",
    "        self.target_size = target_size\n",
    "        self.mode = mode\n",
    "\n",
    "    def __len__(self):\n",
    "        return self.x.shape[0]\n",
    "\n",
    "    def __getitem__(self, idx):\n",
    "        x = self.x[idx:idx+1]  # [1,1,16,16]\n",
    "        y = self.y[idx:idx+1]\n",
    "\n",
    "        # apply the FFT‐based transform you defined\n",
    "        x_fft = fft_transform(x,\n",
    "                              target_size=self.target_size,\n",
    "                              mode=self.mode)\n",
    "        y_fft = fft_transform(y,\n",
    "                              target_size=self.target_size,\n",
    "                              mode=self.mode)\n",
    "        # each is [1,2,16,16]; drop the sample dim\n",
    "        return x_fft.squeeze(0), y_fft.squeeze(0)\n"
   ]
  },
  {
   "cell_type": "code",
   "execution_count": 23,
   "id": "675b63c1-8381-469f-9a99-44d784643a49",
   "metadata": {},
   "outputs": [
    {
     "name": "stdout",
     "output_type": "stream",
     "text": [
      "torch.Size([32, 2, 16, 16]) torch.Size([32, 2, 16, 16])\n"
     ]
    }
   ],
   "source": [
    "# say x_all,y_all are torch.Tensor of shape [1000,16,16]\n",
    "dataset = FreqDataset(x_all, y_all,\n",
    "                      target_size=(16,16),\n",
    "                      mode='mag_phase')\n",
    "\n",
    "loader = DataLoader(dataset,\n",
    "                    batch_size=32,\n",
    "                    shuffle=True,\n",
    "                    drop_last=True)\n",
    "\n",
    "# check one batch\n",
    "xb, yb = next(iter(loader))\n",
    "print(xb.shape, yb.shape)  # -> [32,2,16,16]  [32,2,16,16]"
   ]
  },
  {
   "cell_type": "code",
   "execution_count": 24,
   "id": "41530342-f071-46b0-8de9-6deb736c9274",
   "metadata": {},
   "outputs": [],
   "source": [
    "import torch\n",
    "import torch.nn as nn\n",
    "\n",
    "class Conv8Net(nn.Module):\n",
    "    def __init__(self, in_ch=2, out_ch=2, max_ch=128):\n",
    "        super().__init__()\n",
    "        # channel progression: 2→32→64→128→64→32→16→2\n",
    "        self.net = nn.Sequential(\n",
    "            nn.Conv2d(in_ch,   32, kernel_size=3, padding=1), nn.ReLU(inplace=True),\n",
    "            nn.Conv2d(  32,   64, kernel_size=3, padding=1), nn.ReLU(inplace=True),\n",
    "            nn.Conv2d(  64,  128, kernel_size=3, padding=1), nn.ReLU(inplace=True),\n",
    "            nn.Conv2d( 128,   64, kernel_size=3, padding=1), nn.ReLU(inplace=True),\n",
    "            nn.Conv2d(  64,   64, kernel_size=3, padding=1), nn.ReLU(inplace=True),\n",
    "            nn.Conv2d(  64,   32, kernel_size=3, padding=1), nn.ReLU(inplace=True),\n",
    "            nn.Conv2d(  32,   16, kernel_size=3, padding=1), nn.ReLU(inplace=True),\n",
    "            nn.Conv2d(  16, out_ch, kernel_size=3, padding=1)\n",
    "        )\n",
    "    def forward(self, x):\n",
    "        \"\"\"\n",
    "        x: [B,2,H,W]\n",
    "        returns: [B,2,H,W]\n",
    "        \"\"\"\n",
    "        return self.net(x)\n"
   ]
  },
  {
   "cell_type": "code",
   "execution_count": 27,
   "id": "ca3ae131-bd6d-4b37-816d-f01fe8ddcf4a",
   "metadata": {},
   "outputs": [],
   "source": [
    "import torch\n",
    "from torch.utils.data import DataLoader, random_split\n",
    "import torch.nn as nn\n",
    "import torch.optim as optim\n",
    "from tqdm import tqdm\n",
    "\n",
    "def train_freq_model(model: nn.Module,\n",
    "                     dataset: torch.utils.data.Dataset,\n",
    "                     num_epochs: int = 50,\n",
    "                     batch_size: int = 32,\n",
    "                     lr: float = 1e-3,\n",
    "                     val_split: float = 0.1,\n",
    "                     device: str = \"cuda\" if torch.cuda.is_available() else \"cpu\"):\n",
    "    # Split train/val\n",
    "    N = len(dataset)\n",
    "    n_val = int(N * val_split)\n",
    "    n_train = N - n_val\n",
    "    train_ds, val_ds = random_split(dataset, [n_train, n_val])\n",
    "    \n",
    "    train_loader = DataLoader(train_ds, batch_size=batch_size, shuffle=True, drop_last=True)\n",
    "    val_loader   = DataLoader(val_ds,   batch_size=batch_size, shuffle=False)\n",
    "\n",
    "    model = model.to(device)\n",
    "    optimizer = optim.Adam(model.parameters(), lr=lr)\n",
    "    criterion = nn.MSELoss()\n",
    "\n",
    "    best_val = float('inf')\n",
    "    best_state = None\n",
    "\n",
    "    for epoch in range(1, num_epochs+1):\n",
    "        # ——— Training ———\n",
    "        model.train()\n",
    "        train_bar = tqdm(train_loader, desc=f\"Epoch {epoch}/{num_epochs} [Train]\", leave=False)\n",
    "        train_loss = 0.0\n",
    "        for i, (x_fft, y_fft) in enumerate(train_bar):\n",
    "            x_fft, y_fft = x_fft.to(device), y_fft.to(device)\n",
    "            optimizer.zero_grad()\n",
    "            y_pred = model(x_fft)\n",
    "            loss = criterion(y_pred, y_fft)\n",
    "            loss.backward()\n",
    "            optimizer.step()\n",
    "\n",
    "            train_loss += loss.item()\n",
    "            avg_train = train_loss / (i + 1)\n",
    "            train_bar.set_postfix(loss=f\"{avg_train:.4f}\")\n",
    "\n",
    "        # ——— Validation ———\n",
    "        model.eval()\n",
    "        val_loss = 0.0\n",
    "        with torch.no_grad():\n",
    "            for x_fft, y_fft in val_loader:\n",
    "                x_fft, y_fft = x_fft.to(device), y_fft.to(device)\n",
    "                y_pred = model(x_fft)\n",
    "                val_loss += criterion(y_pred, y_fft).item()\n",
    "        avg_val = val_loss / max(len(val_loader), 1)\n",
    "\n",
    "        print(\n",
    "            f\"Epoch {epoch}/{num_epochs}  \"\n",
    "            f\"Train Loss={train_loss/len(train_loader):.6f}  \"\n",
    "            f\"Val   Loss={avg_val:.6f}\"\n",
    "        )\n",
    "\n",
    "        if avg_val < best_val:\n",
    "            best_val = avg_val\n",
    "            best_state = model.state_dict()\n",
    "            print(f\" → New best model (Val Loss={best_val:.6f})\")\n",
    "\n",
    "    # load best weights & return on CPU\n",
    "    if best_state is not None:\n",
    "        model.load_state_dict(best_state)\n",
    "    return model.to(\"cpu\")\n"
   ]
  },
  {
   "cell_type": "code",
   "execution_count": 42,
   "id": "0a9d1850-590e-47bf-8cc6-a51eb9c32ae2",
   "metadata": {},
   "outputs": [
    {
     "name": "stderr",
     "output_type": "stream",
     "text": [
      "                                                                                 "
     ]
    },
    {
     "name": "stdout",
     "output_type": "stream",
     "text": [
      "Epoch 1/100  Train Loss=0.119335  Val   Loss=0.070400\n",
      " → New best model (Val Loss=0.070400)\n"
     ]
    },
    {
     "name": "stderr",
     "output_type": "stream",
     "text": [
      "                                                                                 "
     ]
    },
    {
     "name": "stdout",
     "output_type": "stream",
     "text": [
      "Epoch 2/100  Train Loss=0.059052  Val   Loss=0.050967\n",
      " → New best model (Val Loss=0.050967)\n"
     ]
    },
    {
     "name": "stderr",
     "output_type": "stream",
     "text": [
      "                                                                                 "
     ]
    },
    {
     "name": "stdout",
     "output_type": "stream",
     "text": [
      "Epoch 3/100  Train Loss=0.045218  Val   Loss=0.042637\n",
      " → New best model (Val Loss=0.042637)\n"
     ]
    },
    {
     "name": "stderr",
     "output_type": "stream",
     "text": [
      "                                                                                 "
     ]
    },
    {
     "name": "stdout",
     "output_type": "stream",
     "text": [
      "Epoch 4/100  Train Loss=0.040812  Val   Loss=0.040249\n",
      " → New best model (Val Loss=0.040249)\n"
     ]
    },
    {
     "name": "stderr",
     "output_type": "stream",
     "text": [
      "                                                                                 "
     ]
    },
    {
     "name": "stdout",
     "output_type": "stream",
     "text": [
      "Epoch 5/100  Train Loss=0.038959  Val   Loss=0.038759\n",
      " → New best model (Val Loss=0.038759)\n"
     ]
    },
    {
     "name": "stderr",
     "output_type": "stream",
     "text": [
      "                                                                                 "
     ]
    },
    {
     "name": "stdout",
     "output_type": "stream",
     "text": [
      "Epoch 6/100  Train Loss=0.037920  Val   Loss=0.038095\n",
      " → New best model (Val Loss=0.038095)\n"
     ]
    },
    {
     "name": "stderr",
     "output_type": "stream",
     "text": [
      "                                                                                 "
     ]
    },
    {
     "name": "stdout",
     "output_type": "stream",
     "text": [
      "Epoch 7/100  Train Loss=0.037473  Val   Loss=0.037778\n",
      " → New best model (Val Loss=0.037778)\n"
     ]
    },
    {
     "name": "stderr",
     "output_type": "stream",
     "text": [
      "                                                                                 "
     ]
    },
    {
     "name": "stdout",
     "output_type": "stream",
     "text": [
      "Epoch 8/100  Train Loss=0.037275  Val   Loss=0.037633\n",
      " → New best model (Val Loss=0.037633)\n"
     ]
    },
    {
     "name": "stderr",
     "output_type": "stream",
     "text": [
      "                                                                                 "
     ]
    },
    {
     "name": "stdout",
     "output_type": "stream",
     "text": [
      "Epoch 9/100  Train Loss=0.037090  Val   Loss=0.037476\n",
      " → New best model (Val Loss=0.037476)\n"
     ]
    },
    {
     "name": "stderr",
     "output_type": "stream",
     "text": [
      "                                                                                  "
     ]
    },
    {
     "name": "stdout",
     "output_type": "stream",
     "text": [
      "Epoch 10/100  Train Loss=0.036926  Val   Loss=0.037296\n",
      " → New best model (Val Loss=0.037296)\n"
     ]
    },
    {
     "name": "stderr",
     "output_type": "stream",
     "text": [
      "                                                                                  "
     ]
    },
    {
     "name": "stdout",
     "output_type": "stream",
     "text": [
      "Epoch 11/100  Train Loss=0.036819  Val   Loss=0.037159\n",
      " → New best model (Val Loss=0.037159)\n"
     ]
    },
    {
     "name": "stderr",
     "output_type": "stream",
     "text": [
      "                                                                                  "
     ]
    },
    {
     "name": "stdout",
     "output_type": "stream",
     "text": [
      "Epoch 12/100  Train Loss=0.036684  Val   Loss=0.037080\n",
      " → New best model (Val Loss=0.037080)\n"
     ]
    },
    {
     "name": "stderr",
     "output_type": "stream",
     "text": [
      "                                                                                  "
     ]
    },
    {
     "name": "stdout",
     "output_type": "stream",
     "text": [
      "Epoch 13/100  Train Loss=0.036543  Val   Loss=0.036933\n",
      " → New best model (Val Loss=0.036933)\n"
     ]
    },
    {
     "name": "stderr",
     "output_type": "stream",
     "text": [
      "                                                                                  "
     ]
    },
    {
     "name": "stdout",
     "output_type": "stream",
     "text": [
      "Epoch 14/100  Train Loss=0.036465  Val   Loss=0.036871\n",
      " → New best model (Val Loss=0.036871)\n"
     ]
    },
    {
     "name": "stderr",
     "output_type": "stream",
     "text": [
      "                                                                                  "
     ]
    },
    {
     "name": "stdout",
     "output_type": "stream",
     "text": [
      "Epoch 15/100  Train Loss=0.036377  Val   Loss=0.036653\n",
      " → New best model (Val Loss=0.036653)\n"
     ]
    },
    {
     "name": "stderr",
     "output_type": "stream",
     "text": [
      "                                                                                  "
     ]
    },
    {
     "name": "stdout",
     "output_type": "stream",
     "text": [
      "Epoch 16/100  Train Loss=0.036287  Val   Loss=0.036635\n",
      " → New best model (Val Loss=0.036635)\n"
     ]
    },
    {
     "name": "stderr",
     "output_type": "stream",
     "text": [
      "                                                                                  "
     ]
    },
    {
     "name": "stdout",
     "output_type": "stream",
     "text": [
      "Epoch 17/100  Train Loss=0.036245  Val   Loss=0.036646\n"
     ]
    },
    {
     "name": "stderr",
     "output_type": "stream",
     "text": [
      "                                                                                  "
     ]
    },
    {
     "name": "stdout",
     "output_type": "stream",
     "text": [
      "Epoch 18/100  Train Loss=0.036198  Val   Loss=0.036647\n"
     ]
    },
    {
     "name": "stderr",
     "output_type": "stream",
     "text": [
      "                                                                                  "
     ]
    },
    {
     "name": "stdout",
     "output_type": "stream",
     "text": [
      "Epoch 19/100  Train Loss=0.036184  Val   Loss=0.036594\n",
      " → New best model (Val Loss=0.036594)\n"
     ]
    },
    {
     "name": "stderr",
     "output_type": "stream",
     "text": [
      "                                                                                  "
     ]
    },
    {
     "name": "stdout",
     "output_type": "stream",
     "text": [
      "Epoch 20/100  Train Loss=0.036071  Val   Loss=0.036466\n",
      " → New best model (Val Loss=0.036466)\n"
     ]
    },
    {
     "name": "stderr",
     "output_type": "stream",
     "text": [
      "                                                                                  "
     ]
    },
    {
     "name": "stdout",
     "output_type": "stream",
     "text": [
      "Epoch 21/100  Train Loss=0.036037  Val   Loss=0.036444\n",
      " → New best model (Val Loss=0.036444)\n"
     ]
    },
    {
     "name": "stderr",
     "output_type": "stream",
     "text": [
      "                                                                                  "
     ]
    },
    {
     "name": "stdout",
     "output_type": "stream",
     "text": [
      "Epoch 22/100  Train Loss=0.035990  Val   Loss=0.036512\n"
     ]
    },
    {
     "name": "stderr",
     "output_type": "stream",
     "text": [
      "                                                                                  "
     ]
    },
    {
     "name": "stdout",
     "output_type": "stream",
     "text": [
      "Epoch 23/100  Train Loss=0.035967  Val   Loss=0.036392\n",
      " → New best model (Val Loss=0.036392)\n"
     ]
    },
    {
     "name": "stderr",
     "output_type": "stream",
     "text": [
      "                                                                                  "
     ]
    },
    {
     "name": "stdout",
     "output_type": "stream",
     "text": [
      "Epoch 24/100  Train Loss=0.035918  Val   Loss=0.036334\n",
      " → New best model (Val Loss=0.036334)\n"
     ]
    },
    {
     "name": "stderr",
     "output_type": "stream",
     "text": [
      "                                                                                  "
     ]
    },
    {
     "name": "stdout",
     "output_type": "stream",
     "text": [
      "Epoch 25/100  Train Loss=0.035902  Val   Loss=0.036295\n",
      " → New best model (Val Loss=0.036295)\n"
     ]
    },
    {
     "name": "stderr",
     "output_type": "stream",
     "text": [
      "                                                                                  "
     ]
    },
    {
     "name": "stdout",
     "output_type": "stream",
     "text": [
      "Epoch 26/100  Train Loss=0.035850  Val   Loss=0.036293\n",
      " → New best model (Val Loss=0.036293)\n"
     ]
    },
    {
     "name": "stderr",
     "output_type": "stream",
     "text": [
      "                                                                                  "
     ]
    },
    {
     "name": "stdout",
     "output_type": "stream",
     "text": [
      "Epoch 27/100  Train Loss=0.035820  Val   Loss=0.036308\n"
     ]
    },
    {
     "name": "stderr",
     "output_type": "stream",
     "text": [
      "                                                                                  "
     ]
    },
    {
     "name": "stdout",
     "output_type": "stream",
     "text": [
      "Epoch 28/100  Train Loss=0.035761  Val   Loss=0.036281\n",
      " → New best model (Val Loss=0.036281)\n"
     ]
    },
    {
     "name": "stderr",
     "output_type": "stream",
     "text": [
      "                                                                                  "
     ]
    },
    {
     "name": "stdout",
     "output_type": "stream",
     "text": [
      "Epoch 29/100  Train Loss=0.035757  Val   Loss=0.036271\n",
      " → New best model (Val Loss=0.036271)\n"
     ]
    },
    {
     "name": "stderr",
     "output_type": "stream",
     "text": [
      "                                                                                  "
     ]
    },
    {
     "name": "stdout",
     "output_type": "stream",
     "text": [
      "Epoch 30/100  Train Loss=0.035728  Val   Loss=0.036360\n"
     ]
    },
    {
     "name": "stderr",
     "output_type": "stream",
     "text": [
      "                                                                                  "
     ]
    },
    {
     "name": "stdout",
     "output_type": "stream",
     "text": [
      "Epoch 31/100  Train Loss=0.035703  Val   Loss=0.036208\n",
      " → New best model (Val Loss=0.036208)\n"
     ]
    },
    {
     "name": "stderr",
     "output_type": "stream",
     "text": [
      "                                                                                  "
     ]
    },
    {
     "name": "stdout",
     "output_type": "stream",
     "text": [
      "Epoch 32/100  Train Loss=0.035610  Val   Loss=0.036173\n",
      " → New best model (Val Loss=0.036173)\n"
     ]
    },
    {
     "name": "stderr",
     "output_type": "stream",
     "text": [
      "                                                                                  "
     ]
    },
    {
     "name": "stdout",
     "output_type": "stream",
     "text": [
      "Epoch 33/100  Train Loss=0.035554  Val   Loss=0.036162\n",
      " → New best model (Val Loss=0.036162)\n"
     ]
    },
    {
     "name": "stderr",
     "output_type": "stream",
     "text": [
      "                                                                                  "
     ]
    },
    {
     "name": "stdout",
     "output_type": "stream",
     "text": [
      "Epoch 34/100  Train Loss=0.035510  Val   Loss=0.036186\n"
     ]
    },
    {
     "name": "stderr",
     "output_type": "stream",
     "text": [
      "                                                                                  "
     ]
    },
    {
     "name": "stdout",
     "output_type": "stream",
     "text": [
      "Epoch 35/100  Train Loss=0.035470  Val   Loss=0.036138\n",
      " → New best model (Val Loss=0.036138)\n"
     ]
    },
    {
     "name": "stderr",
     "output_type": "stream",
     "text": [
      "                                                                                  "
     ]
    },
    {
     "name": "stdout",
     "output_type": "stream",
     "text": [
      "Epoch 36/100  Train Loss=0.035358  Val   Loss=0.035982\n",
      " → New best model (Val Loss=0.035982)\n"
     ]
    },
    {
     "name": "stderr",
     "output_type": "stream",
     "text": [
      "                                                                                  "
     ]
    },
    {
     "name": "stdout",
     "output_type": "stream",
     "text": [
      "Epoch 37/100  Train Loss=0.035326  Val   Loss=0.036063\n"
     ]
    },
    {
     "name": "stderr",
     "output_type": "stream",
     "text": [
      "                                                                                  "
     ]
    },
    {
     "name": "stdout",
     "output_type": "stream",
     "text": [
      "Epoch 38/100  Train Loss=0.035338  Val   Loss=0.036143\n"
     ]
    },
    {
     "name": "stderr",
     "output_type": "stream",
     "text": [
      "                                                                                  "
     ]
    },
    {
     "name": "stdout",
     "output_type": "stream",
     "text": [
      "Epoch 39/100  Train Loss=0.035243  Val   Loss=0.035973\n",
      " → New best model (Val Loss=0.035973)\n"
     ]
    },
    {
     "name": "stderr",
     "output_type": "stream",
     "text": [
      "                                                                                  "
     ]
    },
    {
     "name": "stdout",
     "output_type": "stream",
     "text": [
      "Epoch 40/100  Train Loss=0.035159  Val   Loss=0.035939\n",
      " → New best model (Val Loss=0.035939)\n"
     ]
    },
    {
     "name": "stderr",
     "output_type": "stream",
     "text": [
      "                                                                                  "
     ]
    },
    {
     "name": "stdout",
     "output_type": "stream",
     "text": [
      "Epoch 41/100  Train Loss=0.035096  Val   Loss=0.035979\n"
     ]
    },
    {
     "name": "stderr",
     "output_type": "stream",
     "text": [
      "                                                                                  "
     ]
    },
    {
     "name": "stdout",
     "output_type": "stream",
     "text": [
      "Epoch 42/100  Train Loss=0.035023  Val   Loss=0.035881\n",
      " → New best model (Val Loss=0.035881)\n"
     ]
    },
    {
     "name": "stderr",
     "output_type": "stream",
     "text": [
      "                                                                                  "
     ]
    },
    {
     "name": "stdout",
     "output_type": "stream",
     "text": [
      "Epoch 43/100  Train Loss=0.034981  Val   Loss=0.036157\n"
     ]
    },
    {
     "name": "stderr",
     "output_type": "stream",
     "text": [
      "                                                                                  "
     ]
    },
    {
     "name": "stdout",
     "output_type": "stream",
     "text": [
      "Epoch 44/100  Train Loss=0.034893  Val   Loss=0.035967\n"
     ]
    },
    {
     "name": "stderr",
     "output_type": "stream",
     "text": [
      "                                                                                  "
     ]
    },
    {
     "name": "stdout",
     "output_type": "stream",
     "text": [
      "Epoch 45/100  Train Loss=0.034813  Val   Loss=0.035845\n",
      " → New best model (Val Loss=0.035845)\n"
     ]
    },
    {
     "name": "stderr",
     "output_type": "stream",
     "text": [
      "                                                                                  "
     ]
    },
    {
     "name": "stdout",
     "output_type": "stream",
     "text": [
      "Epoch 46/100  Train Loss=0.034781  Val   Loss=0.035962\n"
     ]
    },
    {
     "name": "stderr",
     "output_type": "stream",
     "text": [
      "                                                                                  "
     ]
    },
    {
     "name": "stdout",
     "output_type": "stream",
     "text": [
      "Epoch 47/100  Train Loss=0.034687  Val   Loss=0.035738\n",
      " → New best model (Val Loss=0.035738)\n"
     ]
    },
    {
     "name": "stderr",
     "output_type": "stream",
     "text": [
      "                                                                                  "
     ]
    },
    {
     "name": "stdout",
     "output_type": "stream",
     "text": [
      "Epoch 48/100  Train Loss=0.034644  Val   Loss=0.035689\n",
      " → New best model (Val Loss=0.035689)\n"
     ]
    },
    {
     "name": "stderr",
     "output_type": "stream",
     "text": [
      "                                                                                  "
     ]
    },
    {
     "name": "stdout",
     "output_type": "stream",
     "text": [
      "Epoch 49/100  Train Loss=0.034540  Val   Loss=0.035596\n",
      " → New best model (Val Loss=0.035596)\n"
     ]
    },
    {
     "name": "stderr",
     "output_type": "stream",
     "text": [
      "                                                                                  "
     ]
    },
    {
     "name": "stdout",
     "output_type": "stream",
     "text": [
      "Epoch 50/100  Train Loss=0.034420  Val   Loss=0.035642\n"
     ]
    },
    {
     "name": "stderr",
     "output_type": "stream",
     "text": [
      "                                                                                  "
     ]
    },
    {
     "name": "stdout",
     "output_type": "stream",
     "text": [
      "Epoch 51/100  Train Loss=0.034425  Val   Loss=0.035737\n"
     ]
    },
    {
     "name": "stderr",
     "output_type": "stream",
     "text": [
      "                                                                                  "
     ]
    },
    {
     "name": "stdout",
     "output_type": "stream",
     "text": [
      "Epoch 52/100  Train Loss=0.034281  Val   Loss=0.035682\n"
     ]
    },
    {
     "name": "stderr",
     "output_type": "stream",
     "text": [
      "                                                                                  "
     ]
    },
    {
     "name": "stdout",
     "output_type": "stream",
     "text": [
      "Epoch 53/100  Train Loss=0.034234  Val   Loss=0.035600\n"
     ]
    },
    {
     "name": "stderr",
     "output_type": "stream",
     "text": [
      "                                                                                  "
     ]
    },
    {
     "name": "stdout",
     "output_type": "stream",
     "text": [
      "Epoch 54/100  Train Loss=0.034118  Val   Loss=0.035669\n"
     ]
    },
    {
     "name": "stderr",
     "output_type": "stream",
     "text": [
      "                                                                                  "
     ]
    },
    {
     "name": "stdout",
     "output_type": "stream",
     "text": [
      "Epoch 55/100  Train Loss=0.034059  Val   Loss=0.035740\n"
     ]
    },
    {
     "name": "stderr",
     "output_type": "stream",
     "text": [
      "                                                                                  "
     ]
    },
    {
     "name": "stdout",
     "output_type": "stream",
     "text": [
      "Epoch 56/100  Train Loss=0.033981  Val   Loss=0.035635\n"
     ]
    },
    {
     "name": "stderr",
     "output_type": "stream",
     "text": [
      "                                                                                  "
     ]
    },
    {
     "name": "stdout",
     "output_type": "stream",
     "text": [
      "Epoch 57/100  Train Loss=0.033942  Val   Loss=0.035521\n",
      " → New best model (Val Loss=0.035521)\n"
     ]
    },
    {
     "name": "stderr",
     "output_type": "stream",
     "text": [
      "                                                                                  "
     ]
    },
    {
     "name": "stdout",
     "output_type": "stream",
     "text": [
      "Epoch 58/100  Train Loss=0.033808  Val   Loss=0.035673\n"
     ]
    },
    {
     "name": "stderr",
     "output_type": "stream",
     "text": [
      "                                                                                  "
     ]
    },
    {
     "name": "stdout",
     "output_type": "stream",
     "text": [
      "Epoch 59/100  Train Loss=0.033796  Val   Loss=0.035730\n"
     ]
    },
    {
     "name": "stderr",
     "output_type": "stream",
     "text": [
      "                                                                                  "
     ]
    },
    {
     "name": "stdout",
     "output_type": "stream",
     "text": [
      "Epoch 60/100  Train Loss=0.033667  Val   Loss=0.035379\n",
      " → New best model (Val Loss=0.035379)\n"
     ]
    },
    {
     "name": "stderr",
     "output_type": "stream",
     "text": [
      "                                                                                  "
     ]
    },
    {
     "name": "stdout",
     "output_type": "stream",
     "text": [
      "Epoch 61/100  Train Loss=0.033542  Val   Loss=0.035411\n"
     ]
    },
    {
     "name": "stderr",
     "output_type": "stream",
     "text": [
      "                                                                                  "
     ]
    },
    {
     "name": "stdout",
     "output_type": "stream",
     "text": [
      "Epoch 62/100  Train Loss=0.033450  Val   Loss=0.035566\n"
     ]
    },
    {
     "name": "stderr",
     "output_type": "stream",
     "text": [
      "                                                                                  "
     ]
    },
    {
     "name": "stdout",
     "output_type": "stream",
     "text": [
      "Epoch 63/100  Train Loss=0.033379  Val   Loss=0.035201\n",
      " → New best model (Val Loss=0.035201)\n"
     ]
    },
    {
     "name": "stderr",
     "output_type": "stream",
     "text": [
      "                                                                                  "
     ]
    },
    {
     "name": "stdout",
     "output_type": "stream",
     "text": [
      "Epoch 64/100  Train Loss=0.033277  Val   Loss=0.035292\n"
     ]
    },
    {
     "name": "stderr",
     "output_type": "stream",
     "text": [
      "                                                                                  "
     ]
    },
    {
     "name": "stdout",
     "output_type": "stream",
     "text": [
      "Epoch 65/100  Train Loss=0.033192  Val   Loss=0.035219\n"
     ]
    },
    {
     "name": "stderr",
     "output_type": "stream",
     "text": [
      "                                                                                  "
     ]
    },
    {
     "name": "stdout",
     "output_type": "stream",
     "text": [
      "Epoch 66/100  Train Loss=0.033125  Val   Loss=0.035228\n"
     ]
    },
    {
     "name": "stderr",
     "output_type": "stream",
     "text": [
      "                                                                                  "
     ]
    },
    {
     "name": "stdout",
     "output_type": "stream",
     "text": [
      "Epoch 67/100  Train Loss=0.033033  Val   Loss=0.035346\n"
     ]
    },
    {
     "name": "stderr",
     "output_type": "stream",
     "text": [
      "                                                                                  "
     ]
    },
    {
     "name": "stdout",
     "output_type": "stream",
     "text": [
      "Epoch 68/100  Train Loss=0.032979  Val   Loss=0.035189\n",
      " → New best model (Val Loss=0.035189)\n"
     ]
    },
    {
     "name": "stderr",
     "output_type": "stream",
     "text": [
      "                                                                                  "
     ]
    },
    {
     "name": "stdout",
     "output_type": "stream",
     "text": [
      "Epoch 69/100  Train Loss=0.032884  Val   Loss=0.035183\n",
      " → New best model (Val Loss=0.035183)\n"
     ]
    },
    {
     "name": "stderr",
     "output_type": "stream",
     "text": [
      "                                                                                  "
     ]
    },
    {
     "name": "stdout",
     "output_type": "stream",
     "text": [
      "Epoch 70/100  Train Loss=0.032776  Val   Loss=0.035176\n",
      " → New best model (Val Loss=0.035176)\n"
     ]
    },
    {
     "name": "stderr",
     "output_type": "stream",
     "text": [
      "                                                                                  "
     ]
    },
    {
     "name": "stdout",
     "output_type": "stream",
     "text": [
      "Epoch 71/100  Train Loss=0.032771  Val   Loss=0.035430\n"
     ]
    },
    {
     "name": "stderr",
     "output_type": "stream",
     "text": [
      "                                                                                  "
     ]
    },
    {
     "name": "stdout",
     "output_type": "stream",
     "text": [
      "Epoch 72/100  Train Loss=0.032653  Val   Loss=0.035323\n"
     ]
    },
    {
     "name": "stderr",
     "output_type": "stream",
     "text": [
      "                                                                                  "
     ]
    },
    {
     "name": "stdout",
     "output_type": "stream",
     "text": [
      "Epoch 73/100  Train Loss=0.032499  Val   Loss=0.035446\n"
     ]
    },
    {
     "name": "stderr",
     "output_type": "stream",
     "text": [
      "                                                                                  "
     ]
    },
    {
     "name": "stdout",
     "output_type": "stream",
     "text": [
      "Epoch 74/100  Train Loss=0.032443  Val   Loss=0.035245\n"
     ]
    },
    {
     "name": "stderr",
     "output_type": "stream",
     "text": [
      "                                                                                  "
     ]
    },
    {
     "name": "stdout",
     "output_type": "stream",
     "text": [
      "Epoch 75/100  Train Loss=0.032261  Val   Loss=0.035424\n"
     ]
    },
    {
     "name": "stderr",
     "output_type": "stream",
     "text": [
      "                                                                                  "
     ]
    },
    {
     "name": "stdout",
     "output_type": "stream",
     "text": [
      "Epoch 76/100  Train Loss=0.032231  Val   Loss=0.035097\n",
      " → New best model (Val Loss=0.035097)\n"
     ]
    },
    {
     "name": "stderr",
     "output_type": "stream",
     "text": [
      "                                                                                  "
     ]
    },
    {
     "name": "stdout",
     "output_type": "stream",
     "text": [
      "Epoch 77/100  Train Loss=0.032108  Val   Loss=0.035382\n"
     ]
    },
    {
     "name": "stderr",
     "output_type": "stream",
     "text": [
      "                                                                                  "
     ]
    },
    {
     "name": "stdout",
     "output_type": "stream",
     "text": [
      "Epoch 78/100  Train Loss=0.032101  Val   Loss=0.035185\n"
     ]
    },
    {
     "name": "stderr",
     "output_type": "stream",
     "text": [
      "                                                                                  "
     ]
    },
    {
     "name": "stdout",
     "output_type": "stream",
     "text": [
      "Epoch 79/100  Train Loss=0.031894  Val   Loss=0.035386\n"
     ]
    },
    {
     "name": "stderr",
     "output_type": "stream",
     "text": [
      "                                                                                  "
     ]
    },
    {
     "name": "stdout",
     "output_type": "stream",
     "text": [
      "Epoch 80/100  Train Loss=0.031808  Val   Loss=0.035540\n"
     ]
    },
    {
     "name": "stderr",
     "output_type": "stream",
     "text": [
      "                                                                                  "
     ]
    },
    {
     "name": "stdout",
     "output_type": "stream",
     "text": [
      "Epoch 81/100  Train Loss=0.031691  Val   Loss=0.035595\n"
     ]
    },
    {
     "name": "stderr",
     "output_type": "stream",
     "text": [
      "                                                                                  "
     ]
    },
    {
     "name": "stdout",
     "output_type": "stream",
     "text": [
      "Epoch 82/100  Train Loss=0.031724  Val   Loss=0.035481\n"
     ]
    },
    {
     "name": "stderr",
     "output_type": "stream",
     "text": [
      "                                                                                  "
     ]
    },
    {
     "name": "stdout",
     "output_type": "stream",
     "text": [
      "Epoch 83/100  Train Loss=0.031535  Val   Loss=0.035502\n"
     ]
    },
    {
     "name": "stderr",
     "output_type": "stream",
     "text": [
      "                                                                                  "
     ]
    },
    {
     "name": "stdout",
     "output_type": "stream",
     "text": [
      "Epoch 84/100  Train Loss=0.031460  Val   Loss=0.035663\n"
     ]
    },
    {
     "name": "stderr",
     "output_type": "stream",
     "text": [
      "                                                                                  "
     ]
    },
    {
     "name": "stdout",
     "output_type": "stream",
     "text": [
      "Epoch 85/100  Train Loss=0.031401  Val   Loss=0.035654\n"
     ]
    },
    {
     "name": "stderr",
     "output_type": "stream",
     "text": [
      "                                                                                  "
     ]
    },
    {
     "name": "stdout",
     "output_type": "stream",
     "text": [
      "Epoch 86/100  Train Loss=0.031239  Val   Loss=0.035827\n"
     ]
    },
    {
     "name": "stderr",
     "output_type": "stream",
     "text": [
      "                                                                                  "
     ]
    },
    {
     "name": "stdout",
     "output_type": "stream",
     "text": [
      "Epoch 87/100  Train Loss=0.031143  Val   Loss=0.035915\n"
     ]
    },
    {
     "name": "stderr",
     "output_type": "stream",
     "text": [
      "                                                                                  "
     ]
    },
    {
     "name": "stdout",
     "output_type": "stream",
     "text": [
      "Epoch 88/100  Train Loss=0.031147  Val   Loss=0.036049\n"
     ]
    },
    {
     "name": "stderr",
     "output_type": "stream",
     "text": [
      "                                                                                  "
     ]
    },
    {
     "name": "stdout",
     "output_type": "stream",
     "text": [
      "Epoch 89/100  Train Loss=0.031060  Val   Loss=0.036019\n"
     ]
    },
    {
     "name": "stderr",
     "output_type": "stream",
     "text": [
      "                                                                                  "
     ]
    },
    {
     "name": "stdout",
     "output_type": "stream",
     "text": [
      "Epoch 90/100  Train Loss=0.030997  Val   Loss=0.035949\n"
     ]
    },
    {
     "name": "stderr",
     "output_type": "stream",
     "text": [
      "                                                                                  "
     ]
    },
    {
     "name": "stdout",
     "output_type": "stream",
     "text": [
      "Epoch 91/100  Train Loss=0.030851  Val   Loss=0.035672\n"
     ]
    },
    {
     "name": "stderr",
     "output_type": "stream",
     "text": [
      "                                                                                  "
     ]
    },
    {
     "name": "stdout",
     "output_type": "stream",
     "text": [
      "Epoch 92/100  Train Loss=0.030695  Val   Loss=0.036049\n"
     ]
    },
    {
     "name": "stderr",
     "output_type": "stream",
     "text": [
      "                                                                                  "
     ]
    },
    {
     "name": "stdout",
     "output_type": "stream",
     "text": [
      "Epoch 93/100  Train Loss=0.030699  Val   Loss=0.036217\n"
     ]
    },
    {
     "name": "stderr",
     "output_type": "stream",
     "text": [
      "                                                                                  "
     ]
    },
    {
     "name": "stdout",
     "output_type": "stream",
     "text": [
      "Epoch 94/100  Train Loss=0.030625  Val   Loss=0.035868\n"
     ]
    },
    {
     "name": "stderr",
     "output_type": "stream",
     "text": [
      "                                                                                  "
     ]
    },
    {
     "name": "stdout",
     "output_type": "stream",
     "text": [
      "Epoch 95/100  Train Loss=0.030341  Val   Loss=0.036191\n"
     ]
    },
    {
     "name": "stderr",
     "output_type": "stream",
     "text": [
      "                                                                                  "
     ]
    },
    {
     "name": "stdout",
     "output_type": "stream",
     "text": [
      "Epoch 96/100  Train Loss=0.030263  Val   Loss=0.036422\n"
     ]
    },
    {
     "name": "stderr",
     "output_type": "stream",
     "text": [
      "                                                                                  "
     ]
    },
    {
     "name": "stdout",
     "output_type": "stream",
     "text": [
      "Epoch 97/100  Train Loss=0.030161  Val   Loss=0.036509\n"
     ]
    },
    {
     "name": "stderr",
     "output_type": "stream",
     "text": [
      "                                                                                  "
     ]
    },
    {
     "name": "stdout",
     "output_type": "stream",
     "text": [
      "Epoch 98/100  Train Loss=0.030232  Val   Loss=0.036405\n"
     ]
    },
    {
     "name": "stderr",
     "output_type": "stream",
     "text": [
      "                                                                                  "
     ]
    },
    {
     "name": "stdout",
     "output_type": "stream",
     "text": [
      "Epoch 99/100  Train Loss=0.030014  Val   Loss=0.036333\n"
     ]
    },
    {
     "name": "stderr",
     "output_type": "stream",
     "text": [
      "                                                                                   "
     ]
    },
    {
     "name": "stdout",
     "output_type": "stream",
     "text": [
      "Epoch 100/100  Train Loss=0.029908  Val   Loss=0.036367\n"
     ]
    }
   ],
   "source": [
    "model   = Conv8Net(in_ch=2, out_ch=2)\n",
    "\n",
    "best_model = train_freq_model(\n",
    "    model,\n",
    "    dataset,\n",
    "    num_epochs=100,\n",
    "    batch_size=32,\n",
    "    lr=1e-3,\n",
    "    val_split=0.1\n",
    ")"
   ]
  },
  {
   "cell_type": "code",
   "execution_count": 45,
   "id": "d080331c-8e04-4d2a-9cbd-64b95feaf6e9",
   "metadata": {},
   "outputs": [],
   "source": [
    "import torch\n",
    "import random\n",
    "import matplotlib.pyplot as plt\n",
    "\n",
    "device = \"cpu\"\n",
    "\n",
    "def run_and_plot(x_raw, y_raw, model, title):\n",
    "    \"\"\"\n",
    "    x_raw, y_raw: torch.Tensor shape [16,16]\n",
    "    model: CPU model that maps fft→fft\n",
    "    \"\"\"\n",
    "    # 1) Prepare batch dims & channels\n",
    "    x = x_raw.unsqueeze(0).unsqueeze(0)  # [1,1,16,16]\n",
    "    y = y_raw.unsqueeze(0).unsqueeze(0)\n",
    "\n",
    "    # 2) FFT‐transform\n",
    "    x_fft = fft_transform(x, target_size=(16,16), mode='mag_phase')  # [1,2,16,16]\n",
    "    # 3) Predict in freq‐domain\n",
    "    with torch.no_grad():\n",
    "        y_pred_fft = model(x_fft)  # [1,2,16,16]\n",
    "    y_pred_fft = y_pred_fft.squeeze(0)\n",
    "    print(y_pred_fft.shape)\n",
    "    # 4) Inverse‐transform\n",
    "    y_rec = inverse_fft_transform(y_pred_fft, y_raw)  # [1,16,16]\n",
    "    y_rec = y_rec.squeeze(0)                   # [16,16]\n",
    "\n",
    "    # 5) Plot\n",
    "    fig, axs = plt.subplots(1,3, figsize=(12,4))\n",
    "    axs[0].imshow(x_raw.numpy(), cmap='viridis'); axs[0].set_title(f\"{title}: input x\")\n",
    "    axs[1].imshow(y_raw.numpy(), cmap='viridis'); axs[1].set_title(f\"{title}: true y\")\n",
    "    axs[2].imshow(y_rec.numpy(), cmap='viridis'); axs[2].set_title(f\"{title}: recon y\")\n",
    "    for ax in axs: ax.axis('off')\n",
    "    plt.tight_layout()\n",
    "    plt.show()\n",
    "\n",
    "\n"
   ]
  },
  {
   "cell_type": "code",
   "execution_count": 43,
   "id": "805cfb9d-034b-4130-af67-123c7fed1531",
   "metadata": {},
   "outputs": [],
   "source": [
    "import torch\n",
    "\n",
    "def inverse_fft_transform(norm_fft: torch.Tensor,\n",
    "                          raw: torch.Tensor,\n",
    "                          eps: float = 1e-8) -> torch.Tensor:\n",
    "    \"\"\"\n",
    "    Invert the mag–phase normalization back to a real image.\n",
    "\n",
    "    Args:\n",
    "      norm_fft:    Tensor of shape [2, H, W], channels = [norm_log_mag, norm_phase]\n",
    "      raw:         Tensor of shape [H, W] (the original spatial image)\n",
    "      eps:         small constant\n",
    "\n",
    "    Returns:\n",
    "      recov:       Tensor of shape [H, W], the reconstructed real‐space field\n",
    "    \"\"\"\n",
    "    # 1) Recompute L_min, L_max on the original\n",
    "    Xf_orig = torch.fft.fft2(raw)\n",
    "    mag_orig = torch.abs(Xf_orig)\n",
    "    logmag   = torch.log(mag_orig + eps)\n",
    "    L_min    = logmag.min()\n",
    "    L_max    = logmag.max()\n",
    "\n",
    "    # 2) Split the two channels\n",
    "    norm_log_mag = norm_fft[0]   # shape [H,W]\n",
    "    norm_phase   = norm_fft[1]   # shape [H,W]\n",
    "\n",
    "    # 3) Reverse normalization on log-magnitude\n",
    "    recov_log_mag = norm_log_mag * (L_max - L_min) + L_min\n",
    "    recov_mag     = torch.exp(recov_log_mag) - eps\n",
    "\n",
    "    # 4) Reverse normalization on phase\n",
    "    recov_phase   = norm_phase * (2 * torch.pi) - torch.pi\n",
    "\n",
    "    # 5) Reconstruct complex spectrum and IFFT\n",
    "    real_part = recov_mag * torch.cos(recov_phase)\n",
    "    imag_part = recov_mag * torch.sin(recov_phase)\n",
    "    Xf_rec    = torch.complex(real_part, imag_part)\n",
    "    recov     = torch.fft.ifft2(Xf_rec).real\n",
    "\n",
    "    return recov\n"
   ]
  },
  {
   "cell_type": "code",
   "execution_count": 48,
   "id": "a186e884-8309-4fe0-a9b7-dd2506364830",
   "metadata": {},
   "outputs": [
    {
     "name": "stdout",
     "output_type": "stream",
     "text": [
      "torch.Size([2, 16, 16])\n"
     ]
    },
    {
     "data": {
      "image/png": "[encoded data removed]",
      "text/plain": [
       "<Figure size 1200x400 with 3 Axes>"
      ]
     },
     "metadata": {},
     "output_type": "display_data"
    },
    {
     "name": "stdout",
     "output_type": "stream",
     "text": [
      "torch.Size([2, 16, 16])\n"
     ]
    },
    {
     "data": {
      "image/png": "[encoded data removed]",
      "text/plain": [
       "<Figure size 1200x400 with 3 Axes>"
      ]
     },
     "metadata": {},
     "output_type": "display_data"
    }
   ],
   "source": [
    "# Pick random train index\n",
    "idx_train = random.randrange(x_all.shape[0])\n",
    "run_and_plot(x_all[idx_train], y_all[idx_train], best_model, f\"Train idx={idx_train}\")\n",
    "\n",
    "# Pick random test index\n",
    "idx_test = random.randrange(x_all_test.shape[0])\n",
    "run_and_plot(x_all_test[idx_test], y_all_test[idx_test], best_model, f\"Test idx={idx_test}\")"
   ]
  },
  {
   "cell_type": "code",
   "execution_count": null,
   "id": "f8c77ee1-9ab8-4ac2-a3e3-c617427d2a2b",
   "metadata": {},
   "outputs": [],
   "source": []
  }
 ],
 "metadata": {
  "kernelspec": {
   "display_name": "Python 3 (ipykernel)",
   "language": "python",
   "name": "python3"
  },
  "language_info": {
   "codemirror_mode": {
    "name": "ipython",
    "version": 3
   },
   "file_extension": ".py",
   "mimetype": "text/x-python",
   "name": "python",
   "nbconvert_exporter": "python",
   "pygments_lexer": "ipython3",
   "version": "3.12.8"
  }
 },
 "nbformat": 4,
 "nbformat_minor": 5
}
