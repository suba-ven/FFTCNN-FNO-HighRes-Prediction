{
  "nbformat": 4,
  "nbformat_minor": 0,
  "metadata": {
    "colab": {
      "provenance": []
    },
    "kernelspec": {
      "name": "python3",
      "display_name": "Python 3"
    },
    "language_info": {
      "name": "python"
    }
  },
  "cells": [
    {
      "cell_type": "code",
      "source": [
        "! pip install neuraloperator"
      ],
      "metadata": {
        "id": "8zGBrbubzE3f",
        "collapsed": true
      },
      "execution_count": null,
      "outputs": []
    },
    {
      "cell_type": "code",
      "execution_count": 3,
      "metadata": {
        "id": "zeCuMMLsyRR0"
      },
      "outputs": [],
      "source": [
        "import matplotlib.pyplot as plt\n",
        "import random\n",
        "import numpy as np\n",
        "from tqdm import tqdm\n",
        "import torch\n",
        "import torch.nn as nn\n",
        "import torch.optim as optim\n",
        "import torch.nn.functional as F\n",
        "from torch.utils.data import TensorDataset, DataLoader, random_split, Dataset\n",
        "\n",
        "from neuralop.data.datasets import DarcyDataset, load_darcy_flow_small\n",
        "from neuralop.utils import count_model_params\n",
        "from neuralop.losses.data_losses import LpLoss\n",
        "from neuralop.training import Trainer\n",
        "from neuralop.models import FNO\n",
        "\n",
        "device = 'cpu'"
      ]
    },
    {
      "cell_type": "code",
      "source": [
        "import matplotlib.pyplot as plt\n",
        "\n",
        "def visualize_pair(x_all, y_all, idx):\n",
        "    \"\"\"\n",
        "    Plot x_all[idx] and y_all[idx] side by side.\n",
        "\n",
        "    Parameters\n",
        "    ----------\n",
        "    x_all : torch.Tensor or np.ndarray, shape (N, 16, 16)\n",
        "    y_all : torch.Tensor or np.ndarray, shape (N, 16, 16)\n",
        "    idx   : int, which sample to plot\n",
        "\n",
        "    Displays a matplotlib figure.\n",
        "    \"\"\"\n",
        "    # if torch.Tensor, convert to numpy\n",
        "    if hasattr(x_all, 'cpu'):\n",
        "        x = x_all[idx].cpu().numpy()\n",
        "    else:\n",
        "        x = x_all[idx]\n",
        "    if hasattr(y_all, 'cpu'):\n",
        "        y = y_all[idx].cpu().numpy()\n",
        "    else:\n",
        "        y = y_all[idx]\n",
        "\n",
        "    fig, axes = plt.subplots(1, 2, figsize=(8, 4))\n",
        "    axes[0].imshow(x, aspect='equal')\n",
        "    axes[0].set_title(f'x_all[{idx}]')\n",
        "    axes[0].axis('off')\n",
        "\n",
        "    axes[1].imshow(y, aspect='equal')\n",
        "    axes[1].set_title(f'y_all[{idx}]')\n",
        "    axes[1].axis('off')\n",
        "\n",
        "    plt.tight_layout()\n",
        "    plt.show()"
      ],
      "metadata": {
        "id": "K7h6E2qJZBjb"
      },
      "execution_count": 4,
      "outputs": []
    },
    {
      "cell_type": "markdown",
      "source": [
        "# Load Darcy Flow Dataset"
      ],
      "metadata": {
        "id": "MWI3rO-ZV8E_"
      }
    },
    {
      "cell_type": "code",
      "source": [
        "ds16 = DarcyDataset(root_dir=\"./data\", n_train=5000, n_tests=[1000, 500],\n",
        "                 batch_size=32, test_batch_sizes=[32, 32],\n",
        "                 train_resolution=16,\n",
        "                 test_resolutions=[16,32],download=True)"
      ],
      "metadata": {
        "colab": {
          "base_uri": "https://localhost:8080/"
        },
        "id": "YXW2JNXi0WBM",
        "outputId": "ff37a274-8d06-462c-da3b-265a9d7e981f"
      },
      "execution_count": 5,
      "outputs": [
        {
          "output_type": "stream",
          "name": "stdout",
          "text": [
            "Loading test db for resolution 16 with 1000 samples \n",
            "Loading test db for resolution 32 with 500 samples \n"
          ]
        }
      ]
    },
    {
      "cell_type": "code",
      "source": [
        "ds32 = DarcyDataset(root_dir=\"./data\", n_train=5000, n_tests=[1000, 500],\n",
        "                 batch_size=32, test_batch_sizes=[32, 32],\n",
        "                 train_resolution=32,\n",
        "                 test_resolutions=[16,32],download=True)"
      ],
      "metadata": {
        "colab": {
          "base_uri": "https://localhost:8080/"
        },
        "id": "uf7M9Nql6dXs",
        "outputId": "e6dffd82-64d3-4df5-b829-41a8726c1e79"
      },
      "execution_count": 6,
      "outputs": [
        {
          "output_type": "stream",
          "name": "stdout",
          "text": [
            "Loading test db for resolution 16 with 1000 samples \n",
            "Loading test db for resolution 32 with 500 samples \n"
          ]
        }
      ]
    },
    {
      "cell_type": "code",
      "source": [
        "a = ds16.train_db\n",
        "full_loader = DataLoader(a,\n",
        "                         batch_size=len(a),\n",
        "                         shuffle=False,\n",
        "                         drop_last=False)\n",
        "\n",
        "batch = next(iter(full_loader))\n",
        "# batch is a dict, so:\n",
        "x_all_16 = batch['x']\n",
        "y_all_16 = batch['y']\n",
        "x_all_16 = x_all_16.squeeze(1)\n",
        "y_all_16 = y_all_16.squeeze(1)\n",
        "print(x_all_16.shape)\n",
        "print(y_all_16.shape)"
      ],
      "metadata": {
        "colab": {
          "base_uri": "https://localhost:8080/"
        },
        "id": "p_xG_lnsVWvs",
        "outputId": "272bb518-6b1b-4050-e361-eebda5d50e3b"
      },
      "execution_count": 7,
      "outputs": [
        {
          "output_type": "stream",
          "name": "stdout",
          "text": [
            "torch.Size([1000, 16, 16])\n",
            "torch.Size([1000, 16, 16])\n"
          ]
        }
      ]
    },
    {
      "cell_type": "code",
      "source": [
        "a = ds32.train_db\n",
        "\n",
        "full_loader = DataLoader(a,\n",
        "                         batch_size=len(a),\n",
        "                         shuffle=False,\n",
        "                         drop_last=False)\n",
        "\n",
        "batch = next(iter(full_loader))\n",
        "# batch is a dict, so:\n",
        "x_all_32 = batch['x']\n",
        "y_all_32 = batch['y']\n",
        "x_train_32_16 = F.interpolate(x_all_32, size=(16, 16), mode='bilinear', align_corners=False)\n",
        "x_all_32 = x_all_32.squeeze(1)\n",
        "y_all_32 = y_all_32.squeeze(1)\n",
        "x_train_32_16 = x_train_32_16.squeeze(1)\n",
        "print(x_train_32_16.shape)\n",
        "print(x_all_32.shape)\n",
        "print(y_all_32.shape)"
      ],
      "metadata": {
        "colab": {
          "base_uri": "https://localhost:8080/"
        },
        "id": "3Y1u30CS6pPA",
        "outputId": "37b74c4a-37c2-4602-d40f-2e42533faa6d"
      },
      "execution_count": 8,
      "outputs": [
        {
          "output_type": "stream",
          "name": "stdout",
          "text": [
            "torch.Size([5000, 16, 16])\n",
            "torch.Size([5000, 32, 32])\n",
            "torch.Size([5000, 32, 32])\n"
          ]
        }
      ]
    },
    {
      "cell_type": "code",
      "source": [
        "b = ds16.test_dbs[16]\n",
        "full_loader = DataLoader(b,\n",
        "                         batch_size=len(b),\n",
        "                         shuffle=False,\n",
        "                         drop_last=False)\n",
        "\n",
        "batch = next(iter(full_loader))\n",
        "x_all_test_16 = batch['x']\n",
        "y_all_test_16 = batch['y']\n",
        "x_all_test_16 = x_all_test_16.squeeze(1)\n",
        "y_all_test_16 = y_all_test_16.squeeze(1)\n",
        "print(x_all_test_16.shape)\n",
        "print(y_all_test_16.shape)"
      ],
      "metadata": {
        "colab": {
          "base_uri": "https://localhost:8080/"
        },
        "id": "2z4McYFRUZJZ",
        "outputId": "171102df-06a0-409f-cf97-f8426c0ad6f3"
      },
      "execution_count": 9,
      "outputs": [
        {
          "output_type": "stream",
          "name": "stdout",
          "text": [
            "torch.Size([50, 16, 16])\n",
            "torch.Size([50, 16, 16])\n"
          ]
        }
      ]
    },
    {
      "cell_type": "code",
      "source": [
        "b = ds16.test_dbs[32]\n",
        "full_loader = DataLoader(b,\n",
        "                         batch_size=len(b),\n",
        "                         shuffle=False,\n",
        "                         drop_last=False)\n",
        "\n",
        "batch = next(iter(full_loader))\n",
        "x_all_test_32 = batch['x']\n",
        "y_all_test_32 = batch['y']\n",
        "x_test_32_16 = F.interpolate(x_all_test_32, size=(16, 16), mode='bilinear', align_corners=False)\n",
        "x_all_test_32 = x_all_test_32.squeeze(1)\n",
        "y_all_test_32 = y_all_test_32.squeeze(1)\n",
        "x_test_32_16 = x_test_32_16.squeeze(1)\n",
        "print(x_all_test_32.shape)\n",
        "print(y_all_test_32.shape)\n",
        "print(x_test_32_16.shape)"
      ],
      "metadata": {
        "colab": {
          "base_uri": "https://localhost:8080/"
        },
        "id": "wt2-UHXoZiOe",
        "outputId": "18d65649-eade-441f-a1ad-b0a3ea1ef4de"
      },
      "execution_count": 37,
      "outputs": [
        {
          "output_type": "stream",
          "name": "stdout",
          "text": [
            "torch.Size([500, 32, 32])\n",
            "torch.Size([500, 32, 32])\n",
            "torch.Size([500, 16, 16])\n"
          ]
        }
      ]
    },
    {
      "cell_type": "code",
      "source": [
        "# Wrap x/y tensors in a dict-style dataset\n",
        "class DictDataset(Dataset):\n",
        "    def __init__(self, x, y):\n",
        "        self.x = x.unsqueeze(1)  # [B, 1, H, W]\n",
        "        self.y = y.unsqueeze(1)\n",
        "\n",
        "    def __len__(self):\n",
        "        return len(self.x)\n",
        "\n",
        "    def __getitem__(self, idx):\n",
        "        return self.x[idx], self.y[idx]"
      ],
      "metadata": {
        "id": "GgC80z9fbISK"
      },
      "execution_count": 38,
      "outputs": []
    },
    {
      "cell_type": "code",
      "source": [
        "visualize_pair(x_train_32_16, y_all_32, idx=937)"
      ],
      "metadata": {
        "colab": {
          "base_uri": "https://localhost:8080/",
          "height": 420
        },
        "id": "_Bo-bBtOK0p7",
        "outputId": "5bd4c9e1-b5b4-4e97-aa03-e3d55235c9cf"
      },
      "execution_count": 39,
      "outputs": [
        {
          "output_type": "display_data",
          "data": {
            "text/plain": [
              "<Figure size 800x400 with 2 Axes>"
            ],
            "image/png": "[encoded data removed]"
          },
          "metadata": {}
        }
      ]
    },
    {
      "cell_type": "markdown",
      "source": [
        "# Define FNO Model"
      ],
      "metadata": {
        "id": "ui8t0M2IV403"
      }
    },
    {
      "cell_type": "code",
      "source": [
        "class FNOWithUpsample(nn.Module):\n",
        "    def __init__(self, base_fno):\n",
        "        super().__init__()\n",
        "        self.fno = base_fno\n",
        "        self.upsample = nn.Sequential(\n",
        "            nn.Upsample(scale_factor=2, mode='bilinear', align_corners=False),\n",
        "            nn.Conv2d(1, 1, kernel_size=3, padding=1)\n",
        "        )\n",
        "\n",
        "    def forward(self, x):\n",
        "        \"\"\"\n",
        "        x: [B, 1, H, W] — input of size 16x16 or 32x32\n",
        "        \"\"\"\n",
        "        out = self.fno(x)  # shape: [B, 1, H, W]\n",
        "        if out.shape[-1] == 16:\n",
        "            out = self.upsample(out)\n",
        "\n",
        "        return out"
      ],
      "metadata": {
        "id": "XUb-j76GWDcE"
      },
      "execution_count": 13,
      "outputs": []
    },
    {
      "cell_type": "code",
      "source": [
        "def train_fno_model(model,\n",
        "                    dataset,\n",
        "                    num_epochs=100,\n",
        "                    batch_size=32,\n",
        "                    lr=1e-3,\n",
        "                    val_split=0.1,\n",
        "                    device=\"cuda\" if torch.cuda.is_available() else \"cpu\"):\n",
        "\n",
        "    # Split into training and validation sets\n",
        "    N = len(dataset)\n",
        "    n_val = int(N * val_split)\n",
        "    n_train = N - n_val\n",
        "    train_ds, val_ds = random_split(dataset, [n_train, n_val])\n",
        "\n",
        "    train_loader = DataLoader(train_ds, batch_size=batch_size, shuffle=True, drop_last=True)\n",
        "    val_loader = DataLoader(val_ds, batch_size=batch_size, shuffle=False)\n",
        "\n",
        "    model = model.to(device)\n",
        "    optimizer = optim.Adam(model.parameters(), lr=lr)\n",
        "    criterion = nn.MSELoss()\n",
        "\n",
        "    best_val = float('inf')\n",
        "    best_state = None\n",
        "\n",
        "    for epoch in range(1, num_epochs + 1):\n",
        "        model.train()\n",
        "        train_loss = 0.0\n",
        "        train_bar = tqdm(train_loader, desc=f\"Epoch {epoch}/{num_epochs} [Train]\", leave=False)\n",
        "\n",
        "        for i, (x, y) in enumerate(train_bar):\n",
        "            x, y = x.to(device), y.to(device)\n",
        "\n",
        "            # Downsample input to 16x16\n",
        "            x_down = nn.functional.interpolate(x, size=(16, 16), mode='bilinear', align_corners=False)\n",
        "\n",
        "            optimizer.zero_grad()\n",
        "            pred = model(x_down)  # model should return [B,1,32,32] via internal upsampling\n",
        "            loss = criterion(pred, y)\n",
        "            loss.backward()\n",
        "            optimizer.step()\n",
        "\n",
        "            train_loss += loss.item()\n",
        "            train_bar.set_postfix(loss=f\"{train_loss / (i + 1):.4f}\")\n",
        "\n",
        "        # Validation\n",
        "        model.eval()\n",
        "        val_loss = 0.0\n",
        "        with torch.no_grad():\n",
        "            for x, y in val_loader:\n",
        "                x, y = x.to(device), y.to(device)\n",
        "                x_down = nn.functional.interpolate(x, size=(16, 16), mode='bilinear', align_corners=False)\n",
        "                pred = model(x_down)\n",
        "                val_loss += criterion(pred, y).item()\n",
        "\n",
        "        avg_val = val_loss / max(len(val_loader), 1)\n",
        "        print(f\"Epoch {epoch:3d} | Train Loss: {train_loss/len(train_loader):.6f} | Val Loss: {avg_val:.6f}\")\n",
        "\n",
        "        if avg_val < best_val:\n",
        "            best_val = avg_val\n",
        "            best_state = model.state_dict()\n",
        "            print(f\" → New best model (Val Loss = {best_val:.6f})\")\n",
        "\n",
        "    if best_state is not None:\n",
        "        if '_metadata' in best_state:\n",
        "          del best_state['_metadata']\n",
        "        model.load_state_dict(best_state)\n",
        "\n",
        "    return model.to(\"cpu\")"
      ],
      "metadata": {
        "id": "jt5FJQPGZ3bl"
      },
      "execution_count": 14,
      "outputs": []
    },
    {
      "cell_type": "code",
      "source": [
        "dataset_fno = DictDataset(x_train_32_16, y_all_32)\n",
        "\n",
        "base_fno = FNO(\n",
        "    n_modes=(12, 12),         # Fourier modes per spatial dimension\n",
        "    hidden_channels=32,       # Width of hidden layers\n",
        "    in_channels=1,            # Input: Darcy coeff (1 channel)\n",
        "    out_channels=1,           # Output: Darcy solution (1 channel)\n",
        "    num_layers=4,             # Number of Fourier layers\n",
        "    use_mlp=True              # Use MLP projection at the end\n",
        ")\n",
        "\n",
        "# Step 2: Wrap it with the upsampling head\n",
        "model = FNOWithUpsample(base_fno)\n",
        "\n",
        "best_model = train_fno_model(\n",
        "    model,\n",
        "    dataset_fno,\n",
        "    num_epochs=100,\n",
        "    batch_size=32,\n",
        "    lr=1e-3,\n",
        "    val_split=0.1\n",
        ")"
      ],
      "metadata": {
        "colab": {
          "base_uri": "https://localhost:8080/"
        },
        "id": "Y4LG890FZ3qu",
        "outputId": "13335686-67da-43f2-bdde-b9c68329cd61"
      },
      "execution_count": 15,
      "outputs": [
        {
          "output_type": "stream",
          "name": "stderr",
          "text": []
        },
        {
          "output_type": "stream",
          "name": "stdout",
          "text": [
            "Epoch   1 | Train Loss: 0.088045 | Val Loss: 0.017470\n",
            " → New best model (Val Loss = 0.017470)\n"
          ]
        },
        {
          "output_type": "stream",
          "name": "stderr",
          "text": []
        },
        {
          "output_type": "stream",
          "name": "stdout",
          "text": [
            "Epoch   2 | Train Loss: 0.010561 | Val Loss: 0.007228\n",
            " → New best model (Val Loss = 0.007228)\n"
          ]
        },
        {
          "output_type": "stream",
          "name": "stderr",
          "text": []
        },
        {
          "output_type": "stream",
          "name": "stdout",
          "text": [
            "Epoch   3 | Train Loss: 0.005591 | Val Loss: 0.004580\n",
            " → New best model (Val Loss = 0.004580)\n"
          ]
        },
        {
          "output_type": "stream",
          "name": "stderr",
          "text": []
        },
        {
          "output_type": "stream",
          "name": "stdout",
          "text": [
            "Epoch   4 | Train Loss: 0.004119 | Val Loss: 0.003547\n",
            " → New best model (Val Loss = 0.003547)\n"
          ]
        },
        {
          "output_type": "stream",
          "name": "stderr",
          "text": []
        },
        {
          "output_type": "stream",
          "name": "stdout",
          "text": [
            "Epoch   5 | Train Loss: 0.003127 | Val Loss: 0.003449\n",
            " → New best model (Val Loss = 0.003449)\n"
          ]
        },
        {
          "output_type": "stream",
          "name": "stderr",
          "text": []
        },
        {
          "output_type": "stream",
          "name": "stdout",
          "text": [
            "Epoch   6 | Train Loss: 0.002495 | Val Loss: 0.002721\n",
            " → New best model (Val Loss = 0.002721)\n"
          ]
        },
        {
          "output_type": "stream",
          "name": "stderr",
          "text": []
        },
        {
          "output_type": "stream",
          "name": "stdout",
          "text": [
            "Epoch   7 | Train Loss: 0.002042 | Val Loss: 0.002354\n",
            " → New best model (Val Loss = 0.002354)\n"
          ]
        },
        {
          "output_type": "stream",
          "name": "stderr",
          "text": []
        },
        {
          "output_type": "stream",
          "name": "stdout",
          "text": [
            "Epoch   8 | Train Loss: 0.001740 | Val Loss: 0.002132\n",
            " → New best model (Val Loss = 0.002132)\n"
          ]
        },
        {
          "output_type": "stream",
          "name": "stderr",
          "text": []
        },
        {
          "output_type": "stream",
          "name": "stdout",
          "text": [
            "Epoch   9 | Train Loss: 0.001571 | Val Loss: 0.002080\n",
            " → New best model (Val Loss = 0.002080)\n"
          ]
        },
        {
          "output_type": "stream",
          "name": "stderr",
          "text": []
        },
        {
          "output_type": "stream",
          "name": "stdout",
          "text": [
            "Epoch  10 | Train Loss: 0.001378 | Val Loss: 0.002057\n",
            " → New best model (Val Loss = 0.002057)\n"
          ]
        },
        {
          "output_type": "stream",
          "name": "stderr",
          "text": []
        },
        {
          "output_type": "stream",
          "name": "stdout",
          "text": [
            "Epoch  11 | Train Loss: 0.001204 | Val Loss: 0.001853\n",
            " → New best model (Val Loss = 0.001853)\n"
          ]
        },
        {
          "output_type": "stream",
          "name": "stderr",
          "text": []
        },
        {
          "output_type": "stream",
          "name": "stdout",
          "text": [
            "Epoch  12 | Train Loss: 0.001133 | Val Loss: 0.001756\n",
            " → New best model (Val Loss = 0.001756)\n"
          ]
        },
        {
          "output_type": "stream",
          "name": "stderr",
          "text": []
        },
        {
          "output_type": "stream",
          "name": "stdout",
          "text": [
            "Epoch  13 | Train Loss: 0.001058 | Val Loss: 0.001725\n",
            " → New best model (Val Loss = 0.001725)\n"
          ]
        },
        {
          "output_type": "stream",
          "name": "stderr",
          "text": []
        },
        {
          "output_type": "stream",
          "name": "stdout",
          "text": [
            "Epoch  14 | Train Loss: 0.000951 | Val Loss: 0.001674\n",
            " → New best model (Val Loss = 0.001674)\n"
          ]
        },
        {
          "output_type": "stream",
          "name": "stderr",
          "text": []
        },
        {
          "output_type": "stream",
          "name": "stdout",
          "text": [
            "Epoch  15 | Train Loss: 0.000887 | Val Loss: 0.001584\n",
            " → New best model (Val Loss = 0.001584)\n"
          ]
        },
        {
          "output_type": "stream",
          "name": "stderr",
          "text": []
        },
        {
          "output_type": "stream",
          "name": "stdout",
          "text": [
            "Epoch  16 | Train Loss: 0.000859 | Val Loss: 0.001681\n"
          ]
        },
        {
          "output_type": "stream",
          "name": "stderr",
          "text": []
        },
        {
          "output_type": "stream",
          "name": "stdout",
          "text": [
            "Epoch  17 | Train Loss: 0.000821 | Val Loss: 0.001760\n"
          ]
        },
        {
          "output_type": "stream",
          "name": "stderr",
          "text": []
        },
        {
          "output_type": "stream",
          "name": "stdout",
          "text": [
            "Epoch  18 | Train Loss: 0.000771 | Val Loss: 0.001528\n",
            " → New best model (Val Loss = 0.001528)\n"
          ]
        },
        {
          "output_type": "stream",
          "name": "stderr",
          "text": []
        },
        {
          "output_type": "stream",
          "name": "stdout",
          "text": [
            "Epoch  19 | Train Loss: 0.000754 | Val Loss: 0.001510\n",
            " → New best model (Val Loss = 0.001510)\n"
          ]
        },
        {
          "output_type": "stream",
          "name": "stderr",
          "text": []
        },
        {
          "output_type": "stream",
          "name": "stdout",
          "text": [
            "Epoch  20 | Train Loss: 0.000740 | Val Loss: 0.001481\n",
            " → New best model (Val Loss = 0.001481)\n"
          ]
        },
        {
          "output_type": "stream",
          "name": "stderr",
          "text": []
        },
        {
          "output_type": "stream",
          "name": "stdout",
          "text": [
            "Epoch  21 | Train Loss: 0.000711 | Val Loss: 0.001470\n",
            " → New best model (Val Loss = 0.001470)\n"
          ]
        },
        {
          "output_type": "stream",
          "name": "stderr",
          "text": []
        },
        {
          "output_type": "stream",
          "name": "stdout",
          "text": [
            "Epoch  22 | Train Loss: 0.000877 | Val Loss: 0.001662\n"
          ]
        },
        {
          "output_type": "stream",
          "name": "stderr",
          "text": []
        },
        {
          "output_type": "stream",
          "name": "stdout",
          "text": [
            "Epoch  23 | Train Loss: 0.000674 | Val Loss: 0.001449\n",
            " → New best model (Val Loss = 0.001449)\n"
          ]
        },
        {
          "output_type": "stream",
          "name": "stderr",
          "text": []
        },
        {
          "output_type": "stream",
          "name": "stdout",
          "text": [
            "Epoch  24 | Train Loss: 0.000660 | Val Loss: 0.001435\n",
            " → New best model (Val Loss = 0.001435)\n"
          ]
        },
        {
          "output_type": "stream",
          "name": "stderr",
          "text": []
        },
        {
          "output_type": "stream",
          "name": "stdout",
          "text": [
            "Epoch  25 | Train Loss: 0.000605 | Val Loss: 0.001492\n"
          ]
        },
        {
          "output_type": "stream",
          "name": "stderr",
          "text": []
        },
        {
          "output_type": "stream",
          "name": "stdout",
          "text": [
            "Epoch  26 | Train Loss: 0.000616 | Val Loss: 0.001365\n",
            " → New best model (Val Loss = 0.001365)\n"
          ]
        },
        {
          "output_type": "stream",
          "name": "stderr",
          "text": []
        },
        {
          "output_type": "stream",
          "name": "stdout",
          "text": [
            "Epoch  27 | Train Loss: 0.000596 | Val Loss: 0.001400\n"
          ]
        },
        {
          "output_type": "stream",
          "name": "stderr",
          "text": []
        },
        {
          "output_type": "stream",
          "name": "stdout",
          "text": [
            "Epoch  28 | Train Loss: 0.000591 | Val Loss: 0.001509\n"
          ]
        },
        {
          "output_type": "stream",
          "name": "stderr",
          "text": []
        },
        {
          "output_type": "stream",
          "name": "stdout",
          "text": [
            "Epoch  29 | Train Loss: 0.000641 | Val Loss: 0.001337\n",
            " → New best model (Val Loss = 0.001337)\n"
          ]
        },
        {
          "output_type": "stream",
          "name": "stderr",
          "text": []
        },
        {
          "output_type": "stream",
          "name": "stdout",
          "text": [
            "Epoch  30 | Train Loss: 0.000584 | Val Loss: 0.001348\n"
          ]
        },
        {
          "output_type": "stream",
          "name": "stderr",
          "text": []
        },
        {
          "output_type": "stream",
          "name": "stdout",
          "text": [
            "Epoch  31 | Train Loss: 0.000576 | Val Loss: 0.001482\n"
          ]
        },
        {
          "output_type": "stream",
          "name": "stderr",
          "text": []
        },
        {
          "output_type": "stream",
          "name": "stdout",
          "text": [
            "Epoch  32 | Train Loss: 0.000548 | Val Loss: 0.001318\n",
            " → New best model (Val Loss = 0.001318)\n"
          ]
        },
        {
          "output_type": "stream",
          "name": "stderr",
          "text": []
        },
        {
          "output_type": "stream",
          "name": "stdout",
          "text": [
            "Epoch  33 | Train Loss: 0.000541 | Val Loss: 0.001315\n",
            " → New best model (Val Loss = 0.001315)\n"
          ]
        },
        {
          "output_type": "stream",
          "name": "stderr",
          "text": []
        },
        {
          "output_type": "stream",
          "name": "stdout",
          "text": [
            "Epoch  34 | Train Loss: 0.000545 | Val Loss: 0.001300\n",
            " → New best model (Val Loss = 0.001300)\n"
          ]
        },
        {
          "output_type": "stream",
          "name": "stderr",
          "text": []
        },
        {
          "output_type": "stream",
          "name": "stdout",
          "text": [
            "Epoch  35 | Train Loss: 0.000609 | Val Loss: 0.001706\n"
          ]
        },
        {
          "output_type": "stream",
          "name": "stderr",
          "text": []
        },
        {
          "output_type": "stream",
          "name": "stdout",
          "text": [
            "Epoch  36 | Train Loss: 0.000598 | Val Loss: 0.001385\n"
          ]
        },
        {
          "output_type": "stream",
          "name": "stderr",
          "text": []
        },
        {
          "output_type": "stream",
          "name": "stdout",
          "text": [
            "Epoch  37 | Train Loss: 0.000537 | Val Loss: 0.001376\n"
          ]
        },
        {
          "output_type": "stream",
          "name": "stderr",
          "text": []
        },
        {
          "output_type": "stream",
          "name": "stdout",
          "text": [
            "Epoch  38 | Train Loss: 0.000511 | Val Loss: 0.001327\n"
          ]
        },
        {
          "output_type": "stream",
          "name": "stderr",
          "text": []
        },
        {
          "output_type": "stream",
          "name": "stdout",
          "text": [
            "Epoch  39 | Train Loss: 0.000514 | Val Loss: 0.001288\n",
            " → New best model (Val Loss = 0.001288)\n"
          ]
        },
        {
          "output_type": "stream",
          "name": "stderr",
          "text": []
        },
        {
          "output_type": "stream",
          "name": "stdout",
          "text": [
            "Epoch  40 | Train Loss: 0.000489 | Val Loss: 0.001348\n"
          ]
        },
        {
          "output_type": "stream",
          "name": "stderr",
          "text": []
        },
        {
          "output_type": "stream",
          "name": "stdout",
          "text": [
            "Epoch  41 | Train Loss: 0.000639 | Val Loss: 0.001457\n"
          ]
        },
        {
          "output_type": "stream",
          "name": "stderr",
          "text": []
        },
        {
          "output_type": "stream",
          "name": "stdout",
          "text": [
            "Epoch  42 | Train Loss: 0.000575 | Val Loss: 0.001315\n"
          ]
        },
        {
          "output_type": "stream",
          "name": "stderr",
          "text": []
        },
        {
          "output_type": "stream",
          "name": "stdout",
          "text": [
            "Epoch  43 | Train Loss: 0.000494 | Val Loss: 0.001388\n"
          ]
        },
        {
          "output_type": "stream",
          "name": "stderr",
          "text": []
        },
        {
          "output_type": "stream",
          "name": "stdout",
          "text": [
            "Epoch  44 | Train Loss: 0.000468 | Val Loss: 0.001268\n",
            " → New best model (Val Loss = 0.001268)\n"
          ]
        },
        {
          "output_type": "stream",
          "name": "stderr",
          "text": []
        },
        {
          "output_type": "stream",
          "name": "stdout",
          "text": [
            "Epoch  45 | Train Loss: 0.000475 | Val Loss: 0.001282\n"
          ]
        },
        {
          "output_type": "stream",
          "name": "stderr",
          "text": []
        },
        {
          "output_type": "stream",
          "name": "stdout",
          "text": [
            "Epoch  46 | Train Loss: 0.000461 | Val Loss: 0.001267\n",
            " → New best model (Val Loss = 0.001267)\n"
          ]
        },
        {
          "output_type": "stream",
          "name": "stderr",
          "text": []
        },
        {
          "output_type": "stream",
          "name": "stdout",
          "text": [
            "Epoch  47 | Train Loss: 0.000438 | Val Loss: 0.001271\n"
          ]
        },
        {
          "output_type": "stream",
          "name": "stderr",
          "text": []
        },
        {
          "output_type": "stream",
          "name": "stdout",
          "text": [
            "Epoch  48 | Train Loss: 0.000438 | Val Loss: 0.001287\n"
          ]
        },
        {
          "output_type": "stream",
          "name": "stderr",
          "text": []
        },
        {
          "output_type": "stream",
          "name": "stdout",
          "text": [
            "Epoch  49 | Train Loss: 0.000435 | Val Loss: 0.001222\n",
            " → New best model (Val Loss = 0.001222)\n"
          ]
        },
        {
          "output_type": "stream",
          "name": "stderr",
          "text": []
        },
        {
          "output_type": "stream",
          "name": "stdout",
          "text": [
            "Epoch  50 | Train Loss: 0.000444 | Val Loss: 0.001231\n"
          ]
        },
        {
          "output_type": "stream",
          "name": "stderr",
          "text": []
        },
        {
          "output_type": "stream",
          "name": "stdout",
          "text": [
            "Epoch  51 | Train Loss: 0.000442 | Val Loss: 0.001293\n"
          ]
        },
        {
          "output_type": "stream",
          "name": "stderr",
          "text": []
        },
        {
          "output_type": "stream",
          "name": "stdout",
          "text": [
            "Epoch  52 | Train Loss: 0.000501 | Val Loss: 0.001234\n"
          ]
        },
        {
          "output_type": "stream",
          "name": "stderr",
          "text": []
        },
        {
          "output_type": "stream",
          "name": "stdout",
          "text": [
            "Epoch  53 | Train Loss: 0.000474 | Val Loss: 0.001274\n"
          ]
        },
        {
          "output_type": "stream",
          "name": "stderr",
          "text": []
        },
        {
          "output_type": "stream",
          "name": "stdout",
          "text": [
            "Epoch  54 | Train Loss: 0.000458 | Val Loss: 0.001320\n"
          ]
        },
        {
          "output_type": "stream",
          "name": "stderr",
          "text": []
        },
        {
          "output_type": "stream",
          "name": "stdout",
          "text": [
            "Epoch  55 | Train Loss: 0.000506 | Val Loss: 0.001223\n"
          ]
        },
        {
          "output_type": "stream",
          "name": "stderr",
          "text": []
        },
        {
          "output_type": "stream",
          "name": "stdout",
          "text": [
            "Epoch  56 | Train Loss: 0.000469 | Val Loss: 0.001176\n",
            " → New best model (Val Loss = 0.001176)\n"
          ]
        },
        {
          "output_type": "stream",
          "name": "stderr",
          "text": []
        },
        {
          "output_type": "stream",
          "name": "stdout",
          "text": [
            "Epoch  57 | Train Loss: 0.000498 | Val Loss: 0.001342\n"
          ]
        },
        {
          "output_type": "stream",
          "name": "stderr",
          "text": []
        },
        {
          "output_type": "stream",
          "name": "stdout",
          "text": [
            "Epoch  58 | Train Loss: 0.000469 | Val Loss: 0.001245\n"
          ]
        },
        {
          "output_type": "stream",
          "name": "stderr",
          "text": []
        },
        {
          "output_type": "stream",
          "name": "stdout",
          "text": [
            "Epoch  59 | Train Loss: 0.000419 | Val Loss: 0.001189\n"
          ]
        },
        {
          "output_type": "stream",
          "name": "stderr",
          "text": []
        },
        {
          "output_type": "stream",
          "name": "stdout",
          "text": [
            "Epoch  60 | Train Loss: 0.000404 | Val Loss: 0.001241\n"
          ]
        },
        {
          "output_type": "stream",
          "name": "stderr",
          "text": []
        },
        {
          "output_type": "stream",
          "name": "stdout",
          "text": [
            "Epoch  61 | Train Loss: 0.000392 | Val Loss: 0.001209\n"
          ]
        },
        {
          "output_type": "stream",
          "name": "stderr",
          "text": []
        },
        {
          "output_type": "stream",
          "name": "stdout",
          "text": [
            "Epoch  62 | Train Loss: 0.000381 | Val Loss: 0.001181\n"
          ]
        },
        {
          "output_type": "stream",
          "name": "stderr",
          "text": []
        },
        {
          "output_type": "stream",
          "name": "stdout",
          "text": [
            "Epoch  63 | Train Loss: 0.000403 | Val Loss: 0.001261\n"
          ]
        },
        {
          "output_type": "stream",
          "name": "stderr",
          "text": []
        },
        {
          "output_type": "stream",
          "name": "stdout",
          "text": [
            "Epoch  64 | Train Loss: 0.000405 | Val Loss: 0.001198\n"
          ]
        },
        {
          "output_type": "stream",
          "name": "stderr",
          "text": []
        },
        {
          "output_type": "stream",
          "name": "stdout",
          "text": [
            "Epoch  65 | Train Loss: 0.000427 | Val Loss: 0.001212\n"
          ]
        },
        {
          "output_type": "stream",
          "name": "stderr",
          "text": []
        },
        {
          "output_type": "stream",
          "name": "stdout",
          "text": [
            "Epoch  66 | Train Loss: 0.000434 | Val Loss: 0.001170\n",
            " → New best model (Val Loss = 0.001170)\n"
          ]
        },
        {
          "output_type": "stream",
          "name": "stderr",
          "text": []
        },
        {
          "output_type": "stream",
          "name": "stdout",
          "text": [
            "Epoch  67 | Train Loss: 0.000438 | Val Loss: 0.001193\n"
          ]
        },
        {
          "output_type": "stream",
          "name": "stderr",
          "text": []
        },
        {
          "output_type": "stream",
          "name": "stdout",
          "text": [
            "Epoch  68 | Train Loss: 0.000393 | Val Loss: 0.001285\n"
          ]
        },
        {
          "output_type": "stream",
          "name": "stderr",
          "text": []
        },
        {
          "output_type": "stream",
          "name": "stdout",
          "text": [
            "Epoch  69 | Train Loss: 0.000391 | Val Loss: 0.001174\n"
          ]
        },
        {
          "output_type": "stream",
          "name": "stderr",
          "text": []
        },
        {
          "output_type": "stream",
          "name": "stdout",
          "text": [
            "Epoch  70 | Train Loss: 0.000394 | Val Loss: 0.001135\n",
            " → New best model (Val Loss = 0.001135)\n"
          ]
        },
        {
          "output_type": "stream",
          "name": "stderr",
          "text": []
        },
        {
          "output_type": "stream",
          "name": "stdout",
          "text": [
            "Epoch  71 | Train Loss: 0.000407 | Val Loss: 0.001232\n"
          ]
        },
        {
          "output_type": "stream",
          "name": "stderr",
          "text": []
        },
        {
          "output_type": "stream",
          "name": "stdout",
          "text": [
            "Epoch  72 | Train Loss: 0.000416 | Val Loss: 0.001166\n"
          ]
        },
        {
          "output_type": "stream",
          "name": "stderr",
          "text": []
        },
        {
          "output_type": "stream",
          "name": "stdout",
          "text": [
            "Epoch  73 | Train Loss: 0.000405 | Val Loss: 0.001330\n"
          ]
        },
        {
          "output_type": "stream",
          "name": "stderr",
          "text": []
        },
        {
          "output_type": "stream",
          "name": "stdout",
          "text": [
            "Epoch  74 | Train Loss: 0.000389 | Val Loss: 0.001178\n"
          ]
        },
        {
          "output_type": "stream",
          "name": "stderr",
          "text": []
        },
        {
          "output_type": "stream",
          "name": "stdout",
          "text": [
            "Epoch  75 | Train Loss: 0.000382 | Val Loss: 0.001159\n"
          ]
        },
        {
          "output_type": "stream",
          "name": "stderr",
          "text": []
        },
        {
          "output_type": "stream",
          "name": "stdout",
          "text": [
            "Epoch  76 | Train Loss: 0.000397 | Val Loss: 0.001305\n"
          ]
        },
        {
          "output_type": "stream",
          "name": "stderr",
          "text": []
        },
        {
          "output_type": "stream",
          "name": "stdout",
          "text": [
            "Epoch  77 | Train Loss: 0.000382 | Val Loss: 0.001184\n"
          ]
        },
        {
          "output_type": "stream",
          "name": "stderr",
          "text": []
        },
        {
          "output_type": "stream",
          "name": "stdout",
          "text": [
            "Epoch  78 | Train Loss: 0.000389 | Val Loss: 0.001156\n"
          ]
        },
        {
          "output_type": "stream",
          "name": "stderr",
          "text": []
        },
        {
          "output_type": "stream",
          "name": "stdout",
          "text": [
            "Epoch  79 | Train Loss: 0.000379 | Val Loss: 0.001221\n"
          ]
        },
        {
          "output_type": "stream",
          "name": "stderr",
          "text": []
        },
        {
          "output_type": "stream",
          "name": "stdout",
          "text": [
            "Epoch  80 | Train Loss: 0.000380 | Val Loss: 0.001225\n"
          ]
        },
        {
          "output_type": "stream",
          "name": "stderr",
          "text": []
        },
        {
          "output_type": "stream",
          "name": "stdout",
          "text": [
            "Epoch  81 | Train Loss: 0.000399 | Val Loss: 0.001131\n",
            " → New best model (Val Loss = 0.001131)\n"
          ]
        },
        {
          "output_type": "stream",
          "name": "stderr",
          "text": []
        },
        {
          "output_type": "stream",
          "name": "stdout",
          "text": [
            "Epoch  82 | Train Loss: 0.000359 | Val Loss: 0.001139\n"
          ]
        },
        {
          "output_type": "stream",
          "name": "stderr",
          "text": []
        },
        {
          "output_type": "stream",
          "name": "stdout",
          "text": [
            "Epoch  83 | Train Loss: 0.000365 | Val Loss: 0.001184\n"
          ]
        },
        {
          "output_type": "stream",
          "name": "stderr",
          "text": []
        },
        {
          "output_type": "stream",
          "name": "stdout",
          "text": [
            "Epoch  84 | Train Loss: 0.000365 | Val Loss: 0.001221\n"
          ]
        },
        {
          "output_type": "stream",
          "name": "stderr",
          "text": []
        },
        {
          "output_type": "stream",
          "name": "stdout",
          "text": [
            "Epoch  85 | Train Loss: 0.000389 | Val Loss: 0.001153\n"
          ]
        },
        {
          "output_type": "stream",
          "name": "stderr",
          "text": []
        },
        {
          "output_type": "stream",
          "name": "stdout",
          "text": [
            "Epoch  86 | Train Loss: 0.000358 | Val Loss: 0.001186\n"
          ]
        },
        {
          "output_type": "stream",
          "name": "stderr",
          "text": []
        },
        {
          "output_type": "stream",
          "name": "stdout",
          "text": [
            "Epoch  87 | Train Loss: 0.000379 | Val Loss: 0.001184\n"
          ]
        },
        {
          "output_type": "stream",
          "name": "stderr",
          "text": []
        },
        {
          "output_type": "stream",
          "name": "stdout",
          "text": [
            "Epoch  88 | Train Loss: 0.000426 | Val Loss: 0.001156\n"
          ]
        },
        {
          "output_type": "stream",
          "name": "stderr",
          "text": []
        },
        {
          "output_type": "stream",
          "name": "stdout",
          "text": [
            "Epoch  89 | Train Loss: 0.000361 | Val Loss: 0.001430\n"
          ]
        },
        {
          "output_type": "stream",
          "name": "stderr",
          "text": []
        },
        {
          "output_type": "stream",
          "name": "stdout",
          "text": [
            "Epoch  90 | Train Loss: 0.000379 | Val Loss: 0.001555\n"
          ]
        },
        {
          "output_type": "stream",
          "name": "stderr",
          "text": []
        },
        {
          "output_type": "stream",
          "name": "stdout",
          "text": [
            "Epoch  91 | Train Loss: 0.000344 | Val Loss: 0.001201\n"
          ]
        },
        {
          "output_type": "stream",
          "name": "stderr",
          "text": []
        },
        {
          "output_type": "stream",
          "name": "stdout",
          "text": [
            "Epoch  92 | Train Loss: 0.000327 | Val Loss: 0.001143\n"
          ]
        },
        {
          "output_type": "stream",
          "name": "stderr",
          "text": []
        },
        {
          "output_type": "stream",
          "name": "stdout",
          "text": [
            "Epoch  93 | Train Loss: 0.000312 | Val Loss: 0.001148\n"
          ]
        },
        {
          "output_type": "stream",
          "name": "stderr",
          "text": []
        },
        {
          "output_type": "stream",
          "name": "stdout",
          "text": [
            "Epoch  94 | Train Loss: 0.000311 | Val Loss: 0.001121\n",
            " → New best model (Val Loss = 0.001121)\n"
          ]
        },
        {
          "output_type": "stream",
          "name": "stderr",
          "text": []
        },
        {
          "output_type": "stream",
          "name": "stdout",
          "text": [
            "Epoch  95 | Train Loss: 0.000350 | Val Loss: 0.001350\n"
          ]
        },
        {
          "output_type": "stream",
          "name": "stderr",
          "text": []
        },
        {
          "output_type": "stream",
          "name": "stdout",
          "text": [
            "Epoch  96 | Train Loss: 0.000368 | Val Loss: 0.001154\n"
          ]
        },
        {
          "output_type": "stream",
          "name": "stderr",
          "text": []
        },
        {
          "output_type": "stream",
          "name": "stdout",
          "text": [
            "Epoch  97 | Train Loss: 0.000340 | Val Loss: 0.001139\n"
          ]
        },
        {
          "output_type": "stream",
          "name": "stderr",
          "text": []
        },
        {
          "output_type": "stream",
          "name": "stdout",
          "text": [
            "Epoch  98 | Train Loss: 0.000334 | Val Loss: 0.001118\n",
            " → New best model (Val Loss = 0.001118)\n"
          ]
        },
        {
          "output_type": "stream",
          "name": "stderr",
          "text": []
        },
        {
          "output_type": "stream",
          "name": "stdout",
          "text": [
            "Epoch  99 | Train Loss: 0.000316 | Val Loss: 0.001109\n",
            " → New best model (Val Loss = 0.001109)\n"
          ]
        },
        {
          "output_type": "stream",
          "name": "stderr",
          "text": []
        },
        {
          "output_type": "stream",
          "name": "stdout",
          "text": [
            "Epoch 100 | Train Loss: 0.000308 | Val Loss: 0.001130\n"
          ]
        }
      ]
    },
    {
      "cell_type": "markdown",
      "source": [
        "# Plot Results"
      ],
      "metadata": {
        "id": "0PNcJby5c4iR"
      }
    },
    {
      "cell_type": "code",
      "source": [
        "def run_and_plot(x_raw, y_raw, model, title, device=\"cpu\"):\n",
        "    \"\"\"\n",
        "    x_raw, y_raw: torch.Tensor shape [16,16]\n",
        "    model: CPU model that maps x → y directly in spatial domain\n",
        "    \"\"\"\n",
        "    # 1) Add batch and channel dimensions\n",
        "    x = x_raw.unsqueeze(0).unsqueeze(0).to(device)\n",
        "    y = y_raw.unsqueeze(0).unsqueeze(0).to(device)\n",
        "\n",
        "    # 2) Run model\n",
        "    model.eval()\n",
        "    with torch.no_grad():\n",
        "        y_pred = model(x)  # shape: [1,1,16,16]\n",
        "\n",
        "    # 3) Remove batch and channel dims\n",
        "    x = x.squeeze().cpu()       # [16,16]\n",
        "    y = y.squeeze().cpu()       # [16,16]\n",
        "    y_pred = y_pred.squeeze().cpu()  # [16,16]\n",
        "\n",
        "    # 4) Plot\n",
        "    fig, axs = plt.subplots(1, 3, figsize=(12, 4))\n",
        "    axs[0].imshow(x.numpy(), cmap='viridis'); axs[0].set_title(f\"{title}: input x\")\n",
        "    axs[1].imshow(y.numpy(), cmap='viridis'); axs[1].set_title(f\"{title}: true y\")\n",
        "    axs[2].imshow(y_pred.numpy(), cmap='viridis'); axs[2].set_title(f\"{title}: predicted y\")\n",
        "    for ax in axs: ax.axis('off')\n",
        "    plt.tight_layout()\n",
        "    plt.show()"
      ],
      "metadata": {
        "id": "Mqs_IDQlZ5g7"
      },
      "execution_count": 16,
      "outputs": []
    },
    {
      "cell_type": "code",
      "source": [
        "idx_train = 937\n",
        "run_and_plot(x_all_32[idx_train], y_all_32[idx_train], best_model, f\"Train idx={idx_train}\")\n",
        "\n",
        "idx_test = 35\n",
        "run_and_plot(x_all_test_32[idx_test], y_all_test_32[idx_test], best_model, f\"Test idx={idx_test}\")\n",
        "\n",
        "idx_test = 5\n",
        "run_and_plot(x_all_test_32[idx_test], y_all_test_32[idx_test], best_model, f\"Test idx={idx_test}\")"
      ],
      "metadata": {
        "colab": {
          "base_uri": "https://localhost:8080/",
          "height": 1000
        },
        "id": "XkLLYRV_cq77",
        "outputId": "764dcf75-aaf8-4abe-f657-18844c3ac594"
      },
      "execution_count": 41,
      "outputs": [
        {
          "output_type": "display_data",
          "data": {
            "text/plain": [
              "<Figure size 1200x400 with 3 Axes>"
            ],
            "image/png": "[encoded data removed]"
          },
          "metadata": {}
        },
        {
          "output_type": "display_data",
          "data": {
            "text/plain": [
              "<Figure size 1200x400 with 3 Axes>"
            ],
            "image/png": "[encoded data removed]"
          },
          "metadata": {}
        },
        {
          "output_type": "display_data",
          "data": {
            "text/plain": [
              "<Figure size 1200x400 with 3 Axes>"
            ],
            "image/png": "[encoded data removed]"
          },
          "metadata": {}
        }
      ]
    },
    {
      "cell_type": "code",
      "source": [
        "idx_train = 937\n",
        "run_and_plot(x_train_32_16[idx_train], y_all_32[idx_train], best_model, f\"Train idx={idx_train}\")\n",
        "\n",
        "idx_test = 35\n",
        "run_and_plot(x_test_32_16[idx_test], y_all_test_32[idx_test], best_model, f\"Test idx={idx_test}\")\n",
        "\n",
        "idx_test = 5\n",
        "run_and_plot(x_test_32_16[idx_test], y_all_test_32[idx_test], best_model, f\"Test idx={idx_test}\")"
      ],
      "metadata": {
        "colab": {
          "base_uri": "https://localhost:8080/",
          "height": 1000
        },
        "id": "8JgUcd7qc9YQ",
        "outputId": "edcb021b-99b4-4acd-da60-ae4cead246df"
      },
      "execution_count": 42,
      "outputs": [
        {
          "output_type": "display_data",
          "data": {
            "text/plain": [
              "<Figure size 1200x400 with 3 Axes>"
            ],
            "image/png": "[encoded data removed]"
          },
          "metadata": {}
        },
        {
          "output_type": "display_data",
          "data": {
            "text/plain": [
              "<Figure size 1200x400 with 3 Axes>"
            ],
            "image/png": "[encoded data removed]"
          },
          "metadata": {}
        },
        {
          "output_type": "display_data",
          "data": {
            "text/plain": [
              "<Figure size 1200x400 with 3 Axes>"
            ],
            "image/png": "[encoded data removed]"
          },
          "metadata": {}
        }
      ]
    },
    {
      "cell_type": "code",
      "source": [
        "def run_and_eval_rmse(x_raw, y_raw, model, device=\"cpu\"):\n",
        "    # Add channel dimension\n",
        "    x = x_raw.unsqueeze(1).to(device)\n",
        "    y = y_raw.unsqueeze(1).to(device)\n",
        "\n",
        "    # Forward pass\n",
        "    model.eval()\n",
        "    with torch.no_grad():\n",
        "        y_pred = model(x)\n",
        "\n",
        "    # Compute RMSE\n",
        "    rmse = torch.sqrt(torch.mean((y_pred - y) ** 2)).item()\n",
        "    return rmse"
      ],
      "metadata": {
        "id": "PXF9dDw2BHgC"
      },
      "execution_count": 24,
      "outputs": []
    },
    {
      "cell_type": "code",
      "source": [
        "# get test loss\n",
        "print(f\"Test loss (Reconstruction): {run_and_eval_rmse(x_all_test_32, y_all_test_32, best_model):4f}\")"
      ],
      "metadata": {
        "colab": {
          "base_uri": "https://localhost:8080/"
        },
        "id": "XX9KqbCC5KWw",
        "outputId": "80e7c4ba-8e27-4127-9e2a-291a7dfd1c5e"
      },
      "execution_count": 27,
      "outputs": [
        {
          "output_type": "stream",
          "name": "stdout",
          "text": [
            "Test loss (Reconstruction): 0.235591\n"
          ]
        }
      ]
    },
    {
      "cell_type": "code",
      "source": [
        "print(f\"Test loss (High-Res): {run_and_eval_rmse(x_test_32_16, y_all_test_32, best_model):4f}\")"
      ],
      "metadata": {
        "id": "yh-6ENoFHTz8",
        "colab": {
          "base_uri": "https://localhost:8080/"
        },
        "outputId": "3d45ad6c-379f-48fd-a137-57019ceb3ef7"
      },
      "execution_count": 28,
      "outputs": [
        {
          "output_type": "stream",
          "name": "stdout",
          "text": [
            "Test loss (High-Res): 0.031827\n"
          ]
        }
      ]
    },
    {
      "cell_type": "markdown",
      "source": [],
      "metadata": {
        "id": "j_xa1p1toyQK"
      }
    },
    {
      "cell_type": "code",
      "source": [
        "torch.save(best_model.state_dict(), \"fno.pth\")"
      ],
      "metadata": {
        "id": "JBF9Dp70oyd5"
      },
      "execution_count": 31,
      "outputs": []
    },
    {
      "cell_type": "markdown",
      "source": [],
      "metadata": {
        "id": "fCtLyHTNXRWi"
      }
    }
  ]
}